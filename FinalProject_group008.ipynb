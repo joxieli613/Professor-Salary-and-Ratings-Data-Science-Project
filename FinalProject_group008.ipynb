{
 "cells": [
  {
   "cell_type": "markdown",
   "metadata": {
    "id": "rWOvYfoJEok1"
   },
   "source": [
    "# COGS 108 - Earnings, Tenure, and Professor Ratings"
   ]
  },
  {
   "cell_type": "markdown",
   "metadata": {},
   "source": [
    "## Permissions\n",
    "\n",
    "Place an `X` in the appropriate bracket below to specify if you would like your group's project to be made available to the public. (Note that student names will be included (but PIDs will be scraped from any groups who include their PIDs).\n",
    "\n",
    "* [X] YES - make available\n",
    "* [  ] NO - keep private"
   ]
  },
  {
   "cell_type": "markdown",
   "metadata": {},
   "source": [
    "# Overview"
   ]
  },
  {
   "cell_type": "markdown",
   "metadata": {},
   "source": [
    "In this project, we will explore the relationship between UC San Diego Professor yearly salary, their tenure status, and their respective CAPE ratings in an attempt to understand how earnings and tenure status correlates with student recommendation and satisfaction. To answer our question, we compiled CAPE data from Seascape, a website that collects data directly from UCSD CAPE, and web scraped Professor salary data and tenure status directly from the UC University of California annual employee pay website. For our results, utilizing linear regression and point biserial correlation approach,we will see there is a correlation between tenure status and student rating, with tenured professors having worse ratings in comparison to non tenured professors. "
   ]
  },
  {
   "cell_type": "markdown",
   "metadata": {
    "id": "irIgh8LoEok3"
   },
   "source": [
    "# Contributors\n",
    "\n",
    "- Josie Li\n",
    "- Jodie Li\n",
    "- Kelly Leon\n",
    "- Sergio Ramirez\n",
    "- Mary Kovic"
   ]
  },
  {
   "cell_type": "markdown",
   "metadata": {
    "id": "RIeSvFhfEok4"
   },
   "source": [
    "<a id='research_question'></a>\n",
    "# Research Question\n",
    "\n",
    "Are UCSD professors who receive higher salaries more likely to receive a lower approval rating than those who receive lower salaries?"
   ]
  },
  {
   "cell_type": "markdown",
   "metadata": {},
   "source": [
    "## Background and Prior Work\n",
    "\n",
    "Our interest in this topic comes from our initial observations about professors we have taken classes from and their salaries. We notice that the professors that have higher ratings on CAPEs (Course And Professor Evaluations) tend to receive lower salaries compared to professors that have lower ratings. We are interested in exploring if there is any correlation between salary and CAPES rating. \n",
    "\n",
    "\n",
    "\n",
    "There have been several studies exploring the relationship between gender, age, salary, and perceived attractiveness of university professors and student impressions. Generally, perceived attractiveness has been found to be positively correlated with student ratings on quality, clarity, and helpfulness [1, 2]. While young female professors typically rate highest in attractiveness, male professors tend to be viewed more favorably and rated higher in competence [2, 3]. Research has also indicated a positive relationship between intstructional ratings and percent salary increase, although one study found that this was largely prevalent only among male professors and not female professors [4,5]. Additonally, work in research has been found to be correlated with faculty rewards including tenured positions and salary increases [6]. Interestingly, one study from Northwestern University found that freshman students who had taken courses from tenured and tenure-track professors were less likely to take a second course in a given field and recieved lower marks than students who had taken a course taught by adjunct or non-tenure professors[8].\n",
    "\n",
    "\n",
    "\n",
    "\n",
    "### Why should we care?\n",
    "With the rise of the internet, rating websites such at Ratemyprofessor.com have increased in popularity. Though approval ratings don't always honestly reflect the quality of teaching, there is some merit to such reviews as students continue to use these sites to aid them when making course decisions [7]. Furthermore, with the increasing cost of attending higher education institutions students deserved to be well informed about where their money is going. Professors who are not performing well according to student evaluations should be reevaluated by administration in order to make informed tenure and salary decisions. \n",
    "\n",
    "\n",
    "\n",
    "### References (include links):\n",
    "1. https://www.researchgate.net/profile/Jennifer-Bonds-Raacke/publication/237320604_The_Relationship_between_Physical_Attractiveness_of_Professors_and_Students'_Ratings_of_Professor_Quality/links/554e7a0308ae12808b365142/The-Relationship-between-Physical-Attractiveness-of-Professors-and-Students-Ratings-of-Professor-Quality.pdf \n",
    "2. https://www.ncbi.nlm.nih.gov/pmc/articles/PMC7269236/\n",
    "3. https://scholarworks.iu.edu/journals/index.php/josotl/article/view/13466/25970\n",
    "4. https://www.tandfonline.com/doi/abs/10.1080/19407882.2017.1285792?journalCode=uwhe20\n",
    "5. https://www.jstor.org/stable/40195066?seq=18#metadata_info_tab_content\n",
    "6. https://doi.org/10.1080/00221546.1984.11780662\n",
    "7. https://www.tandfonline.com/doi/full/10.1080/02602930701293405\n",
    "8. https://www.theatlantic.com/business/archive/2013/09/study-tenured-professors-make-worse-teachers/279480/"
   ]
  },
  {
   "cell_type": "markdown",
   "metadata": {},
   "source": [
    "### Hypothesis\n",
    "We hypothesize that professors who have higher salaries have lower ratings. We also hypothesize that tenure status affects their cape ratings. The rationale for the first hypothesis comes from personal experience with professors who have high earnings but subpar teaching. Our background research at other universities also supports this hypothesis. Tenure status is also worthy of exploration since it is closely tied to salary with many overlaps."
   ]
  },
  {
   "cell_type": "markdown",
   "metadata": {},
   "source": [
    "# Datasets\n",
    "We will utilize two data set for exploratory data analysis. The first data set contains professor names and their student approval rating collected from CAPE in fall 2020, while the second data set contains professor names and their corresponding yearly salary in 2020. The professor names will act as unique ids that will allow the merge of the two data sets for further study. We will be comparing the reviews of the professors with their corresponding salaries."
   ]
  },
  {
   "cell_type": "markdown",
   "metadata": {},
   "source": [
    "# Dataset 1: Professor Rating\n",
    "\n",
    "- Dataset Name: Professor Rating\n",
    "- Link to the dataset:https://github.com/dcao/seascape/tree/master/data\n",
    "- Number of observations: 1361 before , 853 after\n",
    "\n",
    "The data set titled ‘Professor Rating’ is imported from github provided by the Seascape website’s resources. Seascape is a website used to display professors’ rating collected through CAPE, a UC San Diego system that collects student’s opinion on professor in each quarter. We chose to select the fall 2020 data set because salary data for 2021 is not yet available, and we believe that online learning due to the current pandemic has skewed student’s perception of professor and skewed instructor rating to a certain extent, though that is yet to be validated. Seascape(Super Extra Awesome Spicier CAPE) is a credible source since it is a student project from the UCSD SPIS program at the CSE department, and data is directly scraped from the official CAPE site."
   ]
  },
  {
   "cell_type": "markdown",
   "metadata": {
    "id": "cI5lFw_yEok5"
   },
   "source": [
    "# Professor Rating: Setup"
   ]
  },
  {
   "cell_type": "code",
   "execution_count": 1,
   "metadata": {
    "id": "g4opHVpWEok6"
   },
   "outputs": [
    {
     "data": {
      "text/html": [
       "<div>\n",
       "<style scoped>\n",
       "    .dataframe tbody tr th:only-of-type {\n",
       "        vertical-align: middle;\n",
       "    }\n",
       "\n",
       "    .dataframe tbody tr th {\n",
       "        vertical-align: top;\n",
       "    }\n",
       "\n",
       "    .dataframe thead th {\n",
       "        text-align: right;\n",
       "    }\n",
       "</style>\n",
       "<table border=\"1\" class=\"dataframe\">\n",
       "  <thead>\n",
       "    <tr style=\"text-align: right;\">\n",
       "      <th></th>\n",
       "      <th>instr</th>\n",
       "      <th>course</th>\n",
       "      <th>term</th>\n",
       "      <th>enrolled</th>\n",
       "      <th>evals</th>\n",
       "      <th>recClass</th>\n",
       "      <th>recInstr</th>\n",
       "      <th>hours</th>\n",
       "      <th>gpaExp</th>\n",
       "      <th>gpaAvg</th>\n",
       "    </tr>\n",
       "  </thead>\n",
       "  <tbody>\n",
       "    <tr>\n",
       "      <th>0</th>\n",
       "      <td>Butler, Elizabeth Annette</td>\n",
       "      <td>AAS 10</td>\n",
       "      <td>FA20</td>\n",
       "      <td>65</td>\n",
       "      <td>29</td>\n",
       "      <td>89.0</td>\n",
       "      <td>96.0</td>\n",
       "      <td>4.50</td>\n",
       "      <td>3.77</td>\n",
       "      <td>3.33</td>\n",
       "    </tr>\n",
       "    <tr>\n",
       "      <th>1</th>\n",
       "      <td>Puritty, Chandler Elizabeth</td>\n",
       "      <td>AAS 190</td>\n",
       "      <td>FA20</td>\n",
       "      <td>19</td>\n",
       "      <td>5</td>\n",
       "      <td>100.0</td>\n",
       "      <td>100.0</td>\n",
       "      <td>2.10</td>\n",
       "      <td>4.00</td>\n",
       "      <td>NaN</td>\n",
       "    </tr>\n",
       "    <tr>\n",
       "      <th>2</th>\n",
       "      <td>Andrews, Abigail Leslie</td>\n",
       "      <td>AIP 197T</td>\n",
       "      <td>FA20</td>\n",
       "      <td>34</td>\n",
       "      <td>11</td>\n",
       "      <td>100.0</td>\n",
       "      <td>100.0</td>\n",
       "      <td>4.06</td>\n",
       "      <td>3.67</td>\n",
       "      <td>NaN</td>\n",
       "    </tr>\n",
       "    <tr>\n",
       "      <th>3</th>\n",
       "      <td>Jones, Ian William Nasser</td>\n",
       "      <td>ANAR 120</td>\n",
       "      <td>FA20</td>\n",
       "      <td>15</td>\n",
       "      <td>4</td>\n",
       "      <td>100.0</td>\n",
       "      <td>100.0</td>\n",
       "      <td>2.50</td>\n",
       "      <td>3.50</td>\n",
       "      <td>NaN</td>\n",
       "    </tr>\n",
       "    <tr>\n",
       "      <th>4</th>\n",
       "      <td>Smith, Neil Gordon</td>\n",
       "      <td>ANAR 121</td>\n",
       "      <td>FA20</td>\n",
       "      <td>17</td>\n",
       "      <td>6</td>\n",
       "      <td>100.0</td>\n",
       "      <td>100.0</td>\n",
       "      <td>6.50</td>\n",
       "      <td>4.00</td>\n",
       "      <td>NaN</td>\n",
       "    </tr>\n",
       "  </tbody>\n",
       "</table>\n",
       "</div>"
      ],
      "text/plain": [
       "                         instr    course  term  enrolled  evals  recClass  \\\n",
       "0    Butler, Elizabeth Annette    AAS 10  FA20        65     29      89.0   \n",
       "1  Puritty, Chandler Elizabeth   AAS 190  FA20        19      5     100.0   \n",
       "2      Andrews, Abigail Leslie  AIP 197T  FA20        34     11     100.0   \n",
       "3    Jones, Ian William Nasser  ANAR 120  FA20        15      4     100.0   \n",
       "4           Smith, Neil Gordon  ANAR 121  FA20        17      6     100.0   \n",
       "\n",
       "   recInstr  hours  gpaExp  gpaAvg  \n",
       "0      96.0   4.50    3.77    3.33  \n",
       "1     100.0   2.10    4.00     NaN  \n",
       "2     100.0   4.06    3.67     NaN  \n",
       "3     100.0   2.50    3.50     NaN  \n",
       "4     100.0   6.50    4.00     NaN  "
      ]
     },
     "execution_count": 1,
     "metadata": {},
     "output_type": "execute_result"
    }
   ],
   "source": [
    "#get package in\n",
    "import pandas as pd\n",
    "#read data in as DF\n",
    "RatingsDf = pd.read_csv('dataSeaScape.csv')\n",
    "RatingsDf.head()"
   ]
  },
  {
   "cell_type": "markdown",
   "metadata": {},
   "source": [
    "The current data set contains variables 'instr' for professor names, 'course' for the course code,'term' for the quarter, 'enrolled' for students enrolled in the class, 'evals' for the number of students who submitted CAPE, 'recClass' for the class recommendation rating, 'recInstr' for the professor rating, 'hours' for average hour per week spent on the course, 'gpaExp' for the GPA student expected to receive, and 'gpaAvg' for the actual average gpa students received."
   ]
  },
  {
   "cell_type": "markdown",
   "metadata": {
    "id": "hhP9G6PkEok7"
   },
   "source": [
    "# Professor Rating: Data Cleaning"
   ]
  },
  {
   "cell_type": "markdown",
   "metadata": {
    "id": "zTy6WZJlEok7"
   },
   "source": [
    "The steps for cleaning this data involve selecting FA20 data and checking for null values. The data originally imported is already organized and cleaned, thus extensive cleaning is not required."
   ]
  },
  {
   "cell_type": "code",
   "execution_count": 2,
   "metadata": {},
   "outputs": [
    {
     "data": {
      "text/plain": [
       "array(['FA20', 'S320', 'S220', 'S120', 'SP20', 'WI20', 'FA19', 'S319',\n",
       "       'S219', 'S119', 'SP19', 'WI19', 'FA18', 'S318', 'S218', 'S118',\n",
       "       'SP18', 'WI18', 'FA17', 'S317', 'S217', 'S117', 'SP17', 'WI17',\n",
       "       'FA16', 'S316', 'S216', 'S116', 'SP16', 'WI16', 'FA15', 'S315',\n",
       "       'S215', 'S115', 'SP15', 'WI15', 'FA14', 'S314', 'S214', 'S114',\n",
       "       'SP14', 'WI14', 'FA13', 'S313', 'S213', 'S113', 'SP13', 'WI13',\n",
       "       'FA12', 'S312', 'S212', 'S112', 'SP12', 'WI12', 'FA11', 'S311',\n",
       "       'S211', 'S111', 'SP11', 'WI11', 'FA10', 'SU10', 'SP10', 'WI10',\n",
       "       'FA09', 'SU09', 'SP09', 'WI09', 'FA08', 'SU08', 'SP08', 'WI08',\n",
       "       'FA07', 'SU07'], dtype=object)"
      ]
     },
     "execution_count": 2,
     "metadata": {},
     "output_type": "execute_result"
    }
   ],
   "source": [
    "#seeing how many quarters are availiable for view\n",
    "RatingsDf['term'].unique()"
   ]
  },
  {
   "cell_type": "markdown",
   "metadata": {},
   "source": [
    "We can see that FA20 is the most recent year availiable, we will thus only look at FA20 data"
   ]
  },
  {
   "cell_type": "code",
   "execution_count": 3,
   "metadata": {},
   "outputs": [],
   "source": [
    "#only looking at fall 2020 for prepandemic data\n",
    "FA20Df = RatingsDf.loc[RatingsDf['term'] == \"FA20\"]\n",
    "df_prof_ratings = FA20Df"
   ]
  },
  {
   "cell_type": "code",
   "execution_count": 4,
   "metadata": {},
   "outputs": [
    {
     "data": {
      "text/html": [
       "<div>\n",
       "<style scoped>\n",
       "    .dataframe tbody tr th:only-of-type {\n",
       "        vertical-align: middle;\n",
       "    }\n",
       "\n",
       "    .dataframe tbody tr th {\n",
       "        vertical-align: top;\n",
       "    }\n",
       "\n",
       "    .dataframe thead th {\n",
       "        text-align: right;\n",
       "    }\n",
       "</style>\n",
       "<table border=\"1\" class=\"dataframe\">\n",
       "  <thead>\n",
       "    <tr style=\"text-align: right;\">\n",
       "      <th></th>\n",
       "      <th>enrolled</th>\n",
       "      <th>evals</th>\n",
       "      <th>recClass</th>\n",
       "      <th>recInstr</th>\n",
       "      <th>hours</th>\n",
       "      <th>gpaExp</th>\n",
       "      <th>gpaAvg</th>\n",
       "    </tr>\n",
       "  </thead>\n",
       "  <tbody>\n",
       "    <tr>\n",
       "      <th>count</th>\n",
       "      <td>1361.000000</td>\n",
       "      <td>1361.000000</td>\n",
       "      <td>1361.000000</td>\n",
       "      <td>1361.000000</td>\n",
       "      <td>1361.000000</td>\n",
       "      <td>1354.000000</td>\n",
       "      <td>1026.000000</td>\n",
       "    </tr>\n",
       "    <tr>\n",
       "      <th>mean</th>\n",
       "      <td>86.781043</td>\n",
       "      <td>48.345334</td>\n",
       "      <td>90.910360</td>\n",
       "      <td>91.774431</td>\n",
       "      <td>5.736716</td>\n",
       "      <td>3.582555</td>\n",
       "      <td>3.395302</td>\n",
       "    </tr>\n",
       "    <tr>\n",
       "      <th>std</th>\n",
       "      <td>95.017803</td>\n",
       "      <td>58.946634</td>\n",
       "      <td>11.134573</td>\n",
       "      <td>12.657181</td>\n",
       "      <td>2.517838</td>\n",
       "      <td>0.313036</td>\n",
       "      <td>0.372190</td>\n",
       "    </tr>\n",
       "    <tr>\n",
       "      <th>min</th>\n",
       "      <td>4.000000</td>\n",
       "      <td>3.000000</td>\n",
       "      <td>27.000000</td>\n",
       "      <td>0.000000</td>\n",
       "      <td>0.500000</td>\n",
       "      <td>2.150000</td>\n",
       "      <td>1.910000</td>\n",
       "    </tr>\n",
       "    <tr>\n",
       "      <th>25%</th>\n",
       "      <td>24.000000</td>\n",
       "      <td>12.000000</td>\n",
       "      <td>86.000000</td>\n",
       "      <td>89.000000</td>\n",
       "      <td>4.090000</td>\n",
       "      <td>3.380000</td>\n",
       "      <td>3.160000</td>\n",
       "    </tr>\n",
       "    <tr>\n",
       "      <th>50%</th>\n",
       "      <td>48.000000</td>\n",
       "      <td>25.000000</td>\n",
       "      <td>94.000000</td>\n",
       "      <td>97.000000</td>\n",
       "      <td>5.500000</td>\n",
       "      <td>3.630000</td>\n",
       "      <td>3.440000</td>\n",
       "    </tr>\n",
       "    <tr>\n",
       "      <th>75%</th>\n",
       "      <td>112.000000</td>\n",
       "      <td>60.000000</td>\n",
       "      <td>100.000000</td>\n",
       "      <td>100.000000</td>\n",
       "      <td>7.120000</td>\n",
       "      <td>3.820000</td>\n",
       "      <td>3.680000</td>\n",
       "    </tr>\n",
       "    <tr>\n",
       "      <th>max</th>\n",
       "      <td>1043.000000</td>\n",
       "      <td>480.000000</td>\n",
       "      <td>100.000000</td>\n",
       "      <td>100.000000</td>\n",
       "      <td>15.930000</td>\n",
       "      <td>4.000000</td>\n",
       "      <td>4.000000</td>\n",
       "    </tr>\n",
       "  </tbody>\n",
       "</table>\n",
       "</div>"
      ],
      "text/plain": [
       "          enrolled        evals     recClass     recInstr        hours  \\\n",
       "count  1361.000000  1361.000000  1361.000000  1361.000000  1361.000000   \n",
       "mean     86.781043    48.345334    90.910360    91.774431     5.736716   \n",
       "std      95.017803    58.946634    11.134573    12.657181     2.517838   \n",
       "min       4.000000     3.000000    27.000000     0.000000     0.500000   \n",
       "25%      24.000000    12.000000    86.000000    89.000000     4.090000   \n",
       "50%      48.000000    25.000000    94.000000    97.000000     5.500000   \n",
       "75%     112.000000    60.000000   100.000000   100.000000     7.120000   \n",
       "max    1043.000000   480.000000   100.000000   100.000000    15.930000   \n",
       "\n",
       "            gpaExp       gpaAvg  \n",
       "count  1354.000000  1026.000000  \n",
       "mean      3.582555     3.395302  \n",
       "std       0.313036     0.372190  \n",
       "min       2.150000     1.910000  \n",
       "25%       3.380000     3.160000  \n",
       "50%       3.630000     3.440000  \n",
       "75%       3.820000     3.680000  \n",
       "max       4.000000     4.000000  "
      ]
     },
     "execution_count": 4,
     "metadata": {},
     "output_type": "execute_result"
    }
   ],
   "source": [
    "#descriptive data\n",
    "df_prof_ratings.describe()"
   ]
  },
  {
   "cell_type": "markdown",
   "metadata": {},
   "source": [
    "We check to see what columns have null values and if we need to fill them or keep them"
   ]
  },
  {
   "cell_type": "code",
   "execution_count": 5,
   "metadata": {},
   "outputs": [
    {
     "data": {
      "text/plain": [
       "['gpaExp', 'gpaAvg']"
      ]
     },
     "execution_count": 5,
     "metadata": {},
     "output_type": "execute_result"
    }
   ],
   "source": [
    "#check to see what columns have null values and if we need those columns\n",
    "df_prof_ratings.columns[FA20Df.isnull().any()].tolist()"
   ]
  },
  {
   "cell_type": "markdown",
   "metadata": {},
   "source": [
    "Since we are not looking at GPA data, and only focusing on student approval rates, we can drop the columns with null values"
   ]
  },
  {
   "cell_type": "code",
   "execution_count": 6,
   "metadata": {},
   "outputs": [
    {
     "data": {
      "text/html": [
       "<div>\n",
       "<style scoped>\n",
       "    .dataframe tbody tr th:only-of-type {\n",
       "        vertical-align: middle;\n",
       "    }\n",
       "\n",
       "    .dataframe tbody tr th {\n",
       "        vertical-align: top;\n",
       "    }\n",
       "\n",
       "    .dataframe thead th {\n",
       "        text-align: right;\n",
       "    }\n",
       "</style>\n",
       "<table border=\"1\" class=\"dataframe\">\n",
       "  <thead>\n",
       "    <tr style=\"text-align: right;\">\n",
       "      <th></th>\n",
       "      <th>instr</th>\n",
       "      <th>course</th>\n",
       "      <th>term</th>\n",
       "      <th>enrolled</th>\n",
       "      <th>evals</th>\n",
       "      <th>recClass</th>\n",
       "      <th>recInstr</th>\n",
       "      <th>hours</th>\n",
       "    </tr>\n",
       "  </thead>\n",
       "  <tbody>\n",
       "    <tr>\n",
       "      <th>0</th>\n",
       "      <td>Butler, Elizabeth Annette</td>\n",
       "      <td>AAS 10</td>\n",
       "      <td>FA20</td>\n",
       "      <td>65</td>\n",
       "      <td>29</td>\n",
       "      <td>89.0</td>\n",
       "      <td>96.0</td>\n",
       "      <td>4.50</td>\n",
       "    </tr>\n",
       "    <tr>\n",
       "      <th>1</th>\n",
       "      <td>Puritty, Chandler Elizabeth</td>\n",
       "      <td>AAS 190</td>\n",
       "      <td>FA20</td>\n",
       "      <td>19</td>\n",
       "      <td>5</td>\n",
       "      <td>100.0</td>\n",
       "      <td>100.0</td>\n",
       "      <td>2.10</td>\n",
       "    </tr>\n",
       "    <tr>\n",
       "      <th>2</th>\n",
       "      <td>Andrews, Abigail Leslie</td>\n",
       "      <td>AIP 197T</td>\n",
       "      <td>FA20</td>\n",
       "      <td>34</td>\n",
       "      <td>11</td>\n",
       "      <td>100.0</td>\n",
       "      <td>100.0</td>\n",
       "      <td>4.06</td>\n",
       "    </tr>\n",
       "    <tr>\n",
       "      <th>3</th>\n",
       "      <td>Jones, Ian William Nasser</td>\n",
       "      <td>ANAR 120</td>\n",
       "      <td>FA20</td>\n",
       "      <td>15</td>\n",
       "      <td>4</td>\n",
       "      <td>100.0</td>\n",
       "      <td>100.0</td>\n",
       "      <td>2.50</td>\n",
       "    </tr>\n",
       "    <tr>\n",
       "      <th>4</th>\n",
       "      <td>Smith, Neil Gordon</td>\n",
       "      <td>ANAR 121</td>\n",
       "      <td>FA20</td>\n",
       "      <td>17</td>\n",
       "      <td>6</td>\n",
       "      <td>100.0</td>\n",
       "      <td>100.0</td>\n",
       "      <td>6.50</td>\n",
       "    </tr>\n",
       "    <tr>\n",
       "      <th>...</th>\n",
       "      <td>...</td>\n",
       "      <td>...</td>\n",
       "      <td>...</td>\n",
       "      <td>...</td>\n",
       "      <td>...</td>\n",
       "      <td>...</td>\n",
       "      <td>...</td>\n",
       "      <td>...</td>\n",
       "    </tr>\n",
       "    <tr>\n",
       "      <th>1356</th>\n",
       "      <td>Young, Mark T</td>\n",
       "      <td>WCWP 100</td>\n",
       "      <td>FA20</td>\n",
       "      <td>20</td>\n",
       "      <td>9</td>\n",
       "      <td>77.0</td>\n",
       "      <td>88.0</td>\n",
       "      <td>8.06</td>\n",
       "    </tr>\n",
       "    <tr>\n",
       "      <th>1357</th>\n",
       "      <td>Young, Mark T</td>\n",
       "      <td>WCWP 100</td>\n",
       "      <td>FA20</td>\n",
       "      <td>20</td>\n",
       "      <td>9</td>\n",
       "      <td>66.0</td>\n",
       "      <td>88.0</td>\n",
       "      <td>6.06</td>\n",
       "    </tr>\n",
       "    <tr>\n",
       "      <th>1358</th>\n",
       "      <td>Young, Mark T</td>\n",
       "      <td>WCWP 100</td>\n",
       "      <td>FA20</td>\n",
       "      <td>19</td>\n",
       "      <td>13</td>\n",
       "      <td>92.0</td>\n",
       "      <td>92.0</td>\n",
       "      <td>7.12</td>\n",
       "    </tr>\n",
       "    <tr>\n",
       "      <th>1359</th>\n",
       "      <td>Gagnon, Jeffrey C</td>\n",
       "      <td>WCWP 10A</td>\n",
       "      <td>FA20</td>\n",
       "      <td>686</td>\n",
       "      <td>420</td>\n",
       "      <td>83.0</td>\n",
       "      <td>95.0</td>\n",
       "      <td>5.28</td>\n",
       "    </tr>\n",
       "    <tr>\n",
       "      <th>1360</th>\n",
       "      <td>Gagnon, Jeffrey C</td>\n",
       "      <td>WCWP 10B</td>\n",
       "      <td>FA20</td>\n",
       "      <td>60</td>\n",
       "      <td>17</td>\n",
       "      <td>94.0</td>\n",
       "      <td>100.0</td>\n",
       "      <td>6.62</td>\n",
       "    </tr>\n",
       "  </tbody>\n",
       "</table>\n",
       "<p>1361 rows × 8 columns</p>\n",
       "</div>"
      ],
      "text/plain": [
       "                            instr    course  term  enrolled  evals  recClass  \\\n",
       "0       Butler, Elizabeth Annette    AAS 10  FA20        65     29      89.0   \n",
       "1     Puritty, Chandler Elizabeth   AAS 190  FA20        19      5     100.0   \n",
       "2         Andrews, Abigail Leslie  AIP 197T  FA20        34     11     100.0   \n",
       "3       Jones, Ian William Nasser  ANAR 120  FA20        15      4     100.0   \n",
       "4              Smith, Neil Gordon  ANAR 121  FA20        17      6     100.0   \n",
       "...                           ...       ...   ...       ...    ...       ...   \n",
       "1356                Young, Mark T  WCWP 100  FA20        20      9      77.0   \n",
       "1357                Young, Mark T  WCWP 100  FA20        20      9      66.0   \n",
       "1358                Young, Mark T  WCWP 100  FA20        19     13      92.0   \n",
       "1359            Gagnon, Jeffrey C  WCWP 10A  FA20       686    420      83.0   \n",
       "1360            Gagnon, Jeffrey C  WCWP 10B  FA20        60     17      94.0   \n",
       "\n",
       "      recInstr  hours  \n",
       "0         96.0   4.50  \n",
       "1        100.0   2.10  \n",
       "2        100.0   4.06  \n",
       "3        100.0   2.50  \n",
       "4        100.0   6.50  \n",
       "...        ...    ...  \n",
       "1356      88.0   8.06  \n",
       "1357      88.0   6.06  \n",
       "1358      92.0   7.12  \n",
       "1359      95.0   5.28  \n",
       "1360     100.0   6.62  \n",
       "\n",
       "[1361 rows x 8 columns]"
      ]
     },
     "execution_count": 6,
     "metadata": {},
     "output_type": "execute_result"
    }
   ],
   "source": [
    "#we don't need the columns so we can drop them from our df\n",
    "df_prof_ratings = df_prof_ratings.drop(columns=['gpaExp', 'gpaAvg'])\n",
    "\n",
    "df_prof_ratings"
   ]
  },
  {
   "cell_type": "code",
   "execution_count": 7,
   "metadata": {},
   "outputs": [
    {
     "data": {
      "text/plain": [
       "[]"
      ]
     },
     "execution_count": 7,
     "metadata": {},
     "output_type": "execute_result"
    }
   ],
   "source": [
    "#make sure no unavailiable data left\n",
    "df_prof_ratings.columns[df_prof_ratings.isnull().any()].tolist()"
   ]
  },
  {
   "cell_type": "markdown",
   "metadata": {},
   "source": [
    "Here we make sure that no null values are left"
   ]
  },
  {
   "cell_type": "markdown",
   "metadata": {},
   "source": [
    "The next section involves creating a new csv file from this dataset so that there is a csv containing the names of instructors we want to input to webscrape their salary data"
   ]
  },
  {
   "cell_type": "markdown",
   "metadata": {},
   "source": [
    "We create the dataframe with professor names by removing duplicate names as lots of instructors taught multiple classes"
   ]
  },
  {
   "cell_type": "code",
   "execution_count": 8,
   "metadata": {
    "id": "jZkeJTaxEok8",
    "scrolled": true
   },
   "outputs": [
    {
     "data": {
      "text/html": [
       "<div>\n",
       "<style scoped>\n",
       "    .dataframe tbody tr th:only-of-type {\n",
       "        vertical-align: middle;\n",
       "    }\n",
       "\n",
       "    .dataframe tbody tr th {\n",
       "        vertical-align: top;\n",
       "    }\n",
       "\n",
       "    .dataframe thead th {\n",
       "        text-align: right;\n",
       "    }\n",
       "</style>\n",
       "<table border=\"1\" class=\"dataframe\">\n",
       "  <thead>\n",
       "    <tr style=\"text-align: right;\">\n",
       "      <th></th>\n",
       "      <th>course</th>\n",
       "      <th>term</th>\n",
       "      <th>enrolled</th>\n",
       "      <th>evals</th>\n",
       "      <th>recClass</th>\n",
       "      <th>recInstr</th>\n",
       "      <th>hours</th>\n",
       "    </tr>\n",
       "    <tr>\n",
       "      <th>instr</th>\n",
       "      <th></th>\n",
       "      <th></th>\n",
       "      <th></th>\n",
       "      <th></th>\n",
       "      <th></th>\n",
       "      <th></th>\n",
       "      <th></th>\n",
       "    </tr>\n",
       "  </thead>\n",
       "  <tbody>\n",
       "    <tr>\n",
       "      <th>Abi Samra, Nicholas Camill</th>\n",
       "      <td>1</td>\n",
       "      <td>1</td>\n",
       "      <td>1</td>\n",
       "      <td>1</td>\n",
       "      <td>1</td>\n",
       "      <td>1</td>\n",
       "      <td>1</td>\n",
       "    </tr>\n",
       "    <tr>\n",
       "      <th>Abuelhiga, Soraya Jill</th>\n",
       "      <td>1</td>\n",
       "      <td>1</td>\n",
       "      <td>1</td>\n",
       "      <td>1</td>\n",
       "      <td>1</td>\n",
       "      <td>1</td>\n",
       "      <td>1</td>\n",
       "    </tr>\n",
       "    <tr>\n",
       "      <th>Adida, Claire</th>\n",
       "      <td>1</td>\n",
       "      <td>1</td>\n",
       "      <td>1</td>\n",
       "      <td>1</td>\n",
       "      <td>1</td>\n",
       "      <td>1</td>\n",
       "      <td>1</td>\n",
       "    </tr>\n",
       "    <tr>\n",
       "      <th>Agarwal, Pooja</th>\n",
       "      <td>1</td>\n",
       "      <td>1</td>\n",
       "      <td>1</td>\n",
       "      <td>1</td>\n",
       "      <td>1</td>\n",
       "      <td>1</td>\n",
       "      <td>1</td>\n",
       "    </tr>\n",
       "    <tr>\n",
       "      <th>Ahn, Patricia Jeehyun</th>\n",
       "      <td>1</td>\n",
       "      <td>1</td>\n",
       "      <td>1</td>\n",
       "      <td>1</td>\n",
       "      <td>1</td>\n",
       "      <td>1</td>\n",
       "      <td>1</td>\n",
       "    </tr>\n",
       "    <tr>\n",
       "      <th>...</th>\n",
       "      <td>...</td>\n",
       "      <td>...</td>\n",
       "      <td>...</td>\n",
       "      <td>...</td>\n",
       "      <td>...</td>\n",
       "      <td>...</td>\n",
       "      <td>...</td>\n",
       "    </tr>\n",
       "    <tr>\n",
       "      <th>Zucker, Andrew</th>\n",
       "      <td>1</td>\n",
       "      <td>1</td>\n",
       "      <td>1</td>\n",
       "      <td>1</td>\n",
       "      <td>1</td>\n",
       "      <td>1</td>\n",
       "      <td>1</td>\n",
       "    </tr>\n",
       "    <tr>\n",
       "      <th>Zuniga, Elina I</th>\n",
       "      <td>1</td>\n",
       "      <td>1</td>\n",
       "      <td>1</td>\n",
       "      <td>1</td>\n",
       "      <td>1</td>\n",
       "      <td>1</td>\n",
       "      <td>1</td>\n",
       "    </tr>\n",
       "    <tr>\n",
       "      <th>de Oliveira, Mauricio</th>\n",
       "      <td>1</td>\n",
       "      <td>1</td>\n",
       "      <td>1</td>\n",
       "      <td>1</td>\n",
       "      <td>1</td>\n",
       "      <td>1</td>\n",
       "      <td>1</td>\n",
       "    </tr>\n",
       "    <tr>\n",
       "      <th>duBois, Page Ann</th>\n",
       "      <td>2</td>\n",
       "      <td>2</td>\n",
       "      <td>2</td>\n",
       "      <td>2</td>\n",
       "      <td>2</td>\n",
       "      <td>2</td>\n",
       "      <td>2</td>\n",
       "    </tr>\n",
       "    <tr>\n",
       "      <th>el Tayeb, Fatima</th>\n",
       "      <td>1</td>\n",
       "      <td>1</td>\n",
       "      <td>1</td>\n",
       "      <td>1</td>\n",
       "      <td>1</td>\n",
       "      <td>1</td>\n",
       "      <td>1</td>\n",
       "    </tr>\n",
       "  </tbody>\n",
       "</table>\n",
       "<p>853 rows × 7 columns</p>\n",
       "</div>"
      ],
      "text/plain": [
       "                            course  term  enrolled  evals  recClass  recInstr  \\\n",
       "instr                                                                           \n",
       "Abi Samra, Nicholas Camill       1     1         1      1         1         1   \n",
       "Abuelhiga, Soraya Jill           1     1         1      1         1         1   \n",
       "Adida, Claire                    1     1         1      1         1         1   \n",
       "Agarwal, Pooja                   1     1         1      1         1         1   \n",
       "Ahn, Patricia Jeehyun            1     1         1      1         1         1   \n",
       "...                            ...   ...       ...    ...       ...       ...   \n",
       "Zucker, Andrew                   1     1         1      1         1         1   \n",
       "Zuniga, Elina I                  1     1         1      1         1         1   \n",
       "de Oliveira, Mauricio            1     1         1      1         1         1   \n",
       "duBois, Page Ann                 2     2         2      2         2         2   \n",
       "el Tayeb, Fatima                 1     1         1      1         1         1   \n",
       "\n",
       "                            hours  \n",
       "instr                              \n",
       "Abi Samra, Nicholas Camill      1  \n",
       "Abuelhiga, Soraya Jill          1  \n",
       "Adida, Claire                   1  \n",
       "Agarwal, Pooja                  1  \n",
       "Ahn, Patricia Jeehyun           1  \n",
       "...                           ...  \n",
       "Zucker, Andrew                  1  \n",
       "Zuniga, Elina I                 1  \n",
       "de Oliveira, Mauricio           1  \n",
       "duBois, Page Ann                2  \n",
       "el Tayeb, Fatima                1  \n",
       "\n",
       "[853 rows x 7 columns]"
      ]
     },
     "execution_count": 8,
     "metadata": {},
     "output_type": "execute_result"
    }
   ],
   "source": [
    "#creating unique dataframe with professor names as identifiers\n",
    "count = df_prof_ratings.groupby('instr').count()\n",
    "count"
   ]
  },
  {
   "cell_type": "code",
   "execution_count": 9,
   "metadata": {},
   "outputs": [],
   "source": [
    "ProfNamesDf = df_prof_ratings.drop_duplicates(subset = [\"instr\"])\n",
    "ProfNamesDf.to_csv('uniqueProfNames.csv') #this is purely for the webscraping input,not the data we will be using"
   ]
  },
  {
   "cell_type": "markdown",
   "metadata": {},
   "source": [
    "Check the cleaned professor rating data "
   ]
  },
  {
   "cell_type": "code",
   "execution_count": 10,
   "metadata": {},
   "outputs": [
    {
     "data": {
      "text/html": [
       "<div>\n",
       "<style scoped>\n",
       "    .dataframe tbody tr th:only-of-type {\n",
       "        vertical-align: middle;\n",
       "    }\n",
       "\n",
       "    .dataframe tbody tr th {\n",
       "        vertical-align: top;\n",
       "    }\n",
       "\n",
       "    .dataframe thead th {\n",
       "        text-align: right;\n",
       "    }\n",
       "</style>\n",
       "<table border=\"1\" class=\"dataframe\">\n",
       "  <thead>\n",
       "    <tr style=\"text-align: right;\">\n",
       "      <th></th>\n",
       "      <th>instr</th>\n",
       "      <th>course</th>\n",
       "      <th>term</th>\n",
       "      <th>enrolled</th>\n",
       "      <th>evals</th>\n",
       "      <th>recClass</th>\n",
       "      <th>recInstr</th>\n",
       "      <th>hours</th>\n",
       "    </tr>\n",
       "  </thead>\n",
       "  <tbody>\n",
       "    <tr>\n",
       "      <th>0</th>\n",
       "      <td>Butler, Elizabeth Annette</td>\n",
       "      <td>AAS 10</td>\n",
       "      <td>FA20</td>\n",
       "      <td>65</td>\n",
       "      <td>29</td>\n",
       "      <td>89.0</td>\n",
       "      <td>96.0</td>\n",
       "      <td>4.50</td>\n",
       "    </tr>\n",
       "    <tr>\n",
       "      <th>1</th>\n",
       "      <td>Puritty, Chandler Elizabeth</td>\n",
       "      <td>AAS 190</td>\n",
       "      <td>FA20</td>\n",
       "      <td>19</td>\n",
       "      <td>5</td>\n",
       "      <td>100.0</td>\n",
       "      <td>100.0</td>\n",
       "      <td>2.10</td>\n",
       "    </tr>\n",
       "    <tr>\n",
       "      <th>2</th>\n",
       "      <td>Andrews, Abigail Leslie</td>\n",
       "      <td>AIP 197T</td>\n",
       "      <td>FA20</td>\n",
       "      <td>34</td>\n",
       "      <td>11</td>\n",
       "      <td>100.0</td>\n",
       "      <td>100.0</td>\n",
       "      <td>4.06</td>\n",
       "    </tr>\n",
       "    <tr>\n",
       "      <th>3</th>\n",
       "      <td>Jones, Ian William Nasser</td>\n",
       "      <td>ANAR 120</td>\n",
       "      <td>FA20</td>\n",
       "      <td>15</td>\n",
       "      <td>4</td>\n",
       "      <td>100.0</td>\n",
       "      <td>100.0</td>\n",
       "      <td>2.50</td>\n",
       "    </tr>\n",
       "    <tr>\n",
       "      <th>4</th>\n",
       "      <td>Smith, Neil Gordon</td>\n",
       "      <td>ANAR 121</td>\n",
       "      <td>FA20</td>\n",
       "      <td>17</td>\n",
       "      <td>6</td>\n",
       "      <td>100.0</td>\n",
       "      <td>100.0</td>\n",
       "      <td>6.50</td>\n",
       "    </tr>\n",
       "    <tr>\n",
       "      <th>...</th>\n",
       "      <td>...</td>\n",
       "      <td>...</td>\n",
       "      <td>...</td>\n",
       "      <td>...</td>\n",
       "      <td>...</td>\n",
       "      <td>...</td>\n",
       "      <td>...</td>\n",
       "      <td>...</td>\n",
       "    </tr>\n",
       "    <tr>\n",
       "      <th>1356</th>\n",
       "      <td>Young, Mark T</td>\n",
       "      <td>WCWP 100</td>\n",
       "      <td>FA20</td>\n",
       "      <td>20</td>\n",
       "      <td>9</td>\n",
       "      <td>77.0</td>\n",
       "      <td>88.0</td>\n",
       "      <td>8.06</td>\n",
       "    </tr>\n",
       "    <tr>\n",
       "      <th>1357</th>\n",
       "      <td>Young, Mark T</td>\n",
       "      <td>WCWP 100</td>\n",
       "      <td>FA20</td>\n",
       "      <td>20</td>\n",
       "      <td>9</td>\n",
       "      <td>66.0</td>\n",
       "      <td>88.0</td>\n",
       "      <td>6.06</td>\n",
       "    </tr>\n",
       "    <tr>\n",
       "      <th>1358</th>\n",
       "      <td>Young, Mark T</td>\n",
       "      <td>WCWP 100</td>\n",
       "      <td>FA20</td>\n",
       "      <td>19</td>\n",
       "      <td>13</td>\n",
       "      <td>92.0</td>\n",
       "      <td>92.0</td>\n",
       "      <td>7.12</td>\n",
       "    </tr>\n",
       "    <tr>\n",
       "      <th>1359</th>\n",
       "      <td>Gagnon, Jeffrey C</td>\n",
       "      <td>WCWP 10A</td>\n",
       "      <td>FA20</td>\n",
       "      <td>686</td>\n",
       "      <td>420</td>\n",
       "      <td>83.0</td>\n",
       "      <td>95.0</td>\n",
       "      <td>5.28</td>\n",
       "    </tr>\n",
       "    <tr>\n",
       "      <th>1360</th>\n",
       "      <td>Gagnon, Jeffrey C</td>\n",
       "      <td>WCWP 10B</td>\n",
       "      <td>FA20</td>\n",
       "      <td>60</td>\n",
       "      <td>17</td>\n",
       "      <td>94.0</td>\n",
       "      <td>100.0</td>\n",
       "      <td>6.62</td>\n",
       "    </tr>\n",
       "  </tbody>\n",
       "</table>\n",
       "<p>1361 rows × 8 columns</p>\n",
       "</div>"
      ],
      "text/plain": [
       "                            instr    course  term  enrolled  evals  recClass  \\\n",
       "0       Butler, Elizabeth Annette    AAS 10  FA20        65     29      89.0   \n",
       "1     Puritty, Chandler Elizabeth   AAS 190  FA20        19      5     100.0   \n",
       "2         Andrews, Abigail Leslie  AIP 197T  FA20        34     11     100.0   \n",
       "3       Jones, Ian William Nasser  ANAR 120  FA20        15      4     100.0   \n",
       "4              Smith, Neil Gordon  ANAR 121  FA20        17      6     100.0   \n",
       "...                           ...       ...   ...       ...    ...       ...   \n",
       "1356                Young, Mark T  WCWP 100  FA20        20      9      77.0   \n",
       "1357                Young, Mark T  WCWP 100  FA20        20      9      66.0   \n",
       "1358                Young, Mark T  WCWP 100  FA20        19     13      92.0   \n",
       "1359            Gagnon, Jeffrey C  WCWP 10A  FA20       686    420      83.0   \n",
       "1360            Gagnon, Jeffrey C  WCWP 10B  FA20        60     17      94.0   \n",
       "\n",
       "      recInstr  hours  \n",
       "0         96.0   4.50  \n",
       "1        100.0   2.10  \n",
       "2        100.0   4.06  \n",
       "3        100.0   2.50  \n",
       "4        100.0   6.50  \n",
       "...        ...    ...  \n",
       "1356      88.0   8.06  \n",
       "1357      88.0   6.06  \n",
       "1358      92.0   7.12  \n",
       "1359      95.0   5.28  \n",
       "1360     100.0   6.62  \n",
       "\n",
       "[1361 rows x 8 columns]"
      ]
     },
     "execution_count": 10,
     "metadata": {},
     "output_type": "execute_result"
    }
   ],
   "source": [
    "df_prof_ratings"
   ]
  },
  {
   "cell_type": "markdown",
   "metadata": {},
   "source": [
    "This dataset is ready to be used as there are no null values and contains only data from fall 2020."
   ]
  },
  {
   "cell_type": "markdown",
   "metadata": {},
   "source": [
    "# Dataset 2: Professor Salary"
   ]
  },
  {
   "cell_type": "markdown",
   "metadata": {
    "id": "n1XlDh0LEok5"
   },
   "source": [
    "- Dataset Name: Professor Salary\n",
    "- Link to the dataset: from our directory 'df_prof_salary.csv'\n",
    "- Number of observations: 738 after cleaning, 871 before\n",
    "\n",
    "The professor salary dataset is compiled from https://ucannualwage.ucop.edu/wage/, which outlines the salary of a searched professor at a University of California. This data is selective to UC San Diego professors, whose names originate from CAPES reviews using uniqueProfNames.csv.\n",
    "\n",
    "### Note:\n",
    "The webscraping we used to obtain this data was a laborious task which involved a run-time of more than 20 minutes. In order to have the notebook run more smoothly, we have commented out the code below. So, if you did not install the required packages of selenium or urllib2 to your environment, you can still run the cells. The code is used to scrape the data, thus commenting out will allow the notebook to run quickly instead of >20 minutes. We saved the resulting df_prof_salary.csv to our repo, to which we continue cleaning below the webscraping."
   ]
  },
  {
   "cell_type": "markdown",
   "metadata": {},
   "source": [
    "# Professor Salary: Setup"
   ]
  },
  {
   "cell_type": "markdown",
   "metadata": {},
   "source": [
    "In order to scrape the webpage containing professor salaries, we used imports from selenium and urllib2 to automate form-filling. We also allowed the program to sleep for specified amounts of time to allow for page loading wait times. "
   ]
  },
  {
   "cell_type": "code",
   "execution_count": 11,
   "metadata": {},
   "outputs": [],
   "source": [
    "ignore1 = '''\n",
    "from selenium import webdriver\n",
    "from selenium.webdriver.support.ui import Select\n",
    "from selenium.webdriver.common.keys import Keys\n",
    "\n",
    "import time\n",
    "\n",
    "try:\n",
    "    import urllib.request as urllib2\n",
    "except ImportError:\n",
    "    import urllib2\n",
    "'''\n",
    "import pandas as pd\n"
   ]
  },
  {
   "cell_type": "code",
   "execution_count": 12,
   "metadata": {},
   "outputs": [],
   "source": [
    "ignore2 = '''driver = webdriver.Chrome()'''"
   ]
  },
  {
   "cell_type": "code",
   "execution_count": 13,
   "metadata": {},
   "outputs": [],
   "source": [
    "ignore3 = '''\n",
    "url = 'https://ucannualwage.ucop.edu/wage/'\n",
    "driver.get(url)\n",
    "time.sleep(1)\n",
    "'''"
   ]
  },
  {
   "cell_type": "markdown",
   "metadata": {},
   "source": [
    "# Professor Salary: Data Cleaning"
   ]
  },
  {
   "cell_type": "markdown",
   "metadata": {},
   "source": [
    "## Function: get_df\n",
    "- @param location the location of the university the professor instructs at\n",
    "- @param last the last name of the professor\n",
    "- @param first the first name of the professor\n",
    "- @returns dataframe for new row of salary data\n",
    "-------------------\n",
    "\n",
    "This function returns a dataframe for all the entries that result from our search. Duplicate entries are cross-referenced with original name to ensure only one salary is recorded per unique value."
   ]
  },
  {
   "cell_type": "code",
   "execution_count": 14,
   "metadata": {},
   "outputs": [],
   "source": [
    "ignore4 = '''\n",
    "def get_df(location, last, first):\n",
    "    #create empty dataframe to hold info\n",
    "    new_df = pd.DataFrame(columns=['Year', 'Location', 'First Name', 'Last Name', 'Title', 'Gross Pay', 'Regular Pay', 'Overtime Pay', 'Other Pay'])\n",
    "    \n",
    "    #find the table in the html by xpath\n",
    "    table_body = driver.find_element_by_xpath('//*[@id=\"list2\"]')\n",
    "    \n",
    "    #go through all entries (some will not be relevant)\n",
    "    entries = table_body.find_elements_by_tag_name('tr')\n",
    "    if len(entries) == 0: \n",
    "        #if there are no entries for the person, then their salary is not available. Create empty row\n",
    "        new_row = {'Year':\"\", 'Location':location, 'First Name':first, 'Last Name':last, 'Title':\"\", 'Gross Pay':\"\", 'Regular Pay':\"\", 'Overtime Pay':\"\", 'Other Pay':\"\"}\n",
    "        new_df = new_df.append(new_row, ignore_index=True, sort=False)\n",
    "    else:\n",
    "        #if there are entries, then add a row\n",
    "        for i in range(0, len(entries)):\n",
    "            cols = entries[i].find_elements_by_tag_name('td')\n",
    "            table_row = ''\n",
    "\n",
    "            #assign the column data to header names\n",
    "            #if the page does not load quick enough, let the program sleep for 0.5 seconds.\n",
    "            #continue to scrape data until found.\n",
    "            while True:\n",
    "                try:\n",
    "                    year = cols[2].text\n",
    "                    location = cols[3].text\n",
    "                    firstname = cols[4].text\n",
    "                    lastname = cols[5].text\n",
    "                    title = cols[6].text\n",
    "                    grossp = cols[7].text\n",
    "                    regp = cols[8].text\n",
    "                    overp = cols[9].text\n",
    "                    otherp = cols[10].text\n",
    "                    break;\n",
    "                except:\n",
    "                    time.sleep(0.5)\n",
    "                    continue;\n",
    "             \n",
    "            #avoid duplicates by making sure the names match before adding to df\n",
    "            if firstname.split(' ')[0] != first or lastname.split(' ')[0] != last:\n",
    "                continue\n",
    "            \n",
    "            #create a new row with the above values and add to the temporary dataframe\n",
    "            new_row = {'Year':year, 'Location':location, 'First Name':firstname, 'Last Name':lastname, 'Title':title, 'Gross Pay':grossp, 'Regular Pay':regp, 'Overtime Pay':overp, 'Other Pay':otherp}\n",
    "            new_df = new_df.append(new_row, ignore_index=True, sort=False)\n",
    "        \n",
    "    #return the dataframe\n",
    "    return new_df\n",
    "'''"
   ]
  },
  {
   "cell_type": "markdown",
   "metadata": {},
   "source": [
    "## Function: search_prof_salary\n",
    "- @param location the location of the university the professor instructs at\n",
    "- @param last the last name of the professor\n",
    "- @param first the first name of the professor\n",
    "\n",
    "- @returns callback to function get_df, which returns dataframe for new row of salary data\n",
    "---------------\n",
    "This function uses webscraping techniques from selenium to automate form-filling on the website."
   ]
  },
  {
   "cell_type": "code",
   "execution_count": 15,
   "metadata": {},
   "outputs": [],
   "source": [
    "ignore5 = '''\n",
    "def search_prof_salary(location, last, first):\n",
    "    \n",
    "    #input location into form (we are looking for San Diego only)\n",
    "    grade_dropdown = Select(driver.find_element_by_id(\"location\"))\n",
    "    grade_dropdown.select_by_value(location)\n",
    "    \n",
    "    #input lastname into form\n",
    "    driver.find_element_by_id('lastname').send_keys(last)\n",
    "    \n",
    "    #input firstname into form\n",
    "    driver.find_element_by_id('firstname').send_keys(first)\n",
    "    \n",
    "    driver.find_element_by_xpath('//*[@id=\"searchButton\"]').click()\n",
    "    \n",
    "    #allow the data to load\n",
    "    time.sleep(1)\n",
    "    \n",
    "    #clear the text boxes\n",
    "    driver.find_element_by_id('lastname').clear()\n",
    "    driver.find_element_by_id('firstname').clear()\n",
    "    \n",
    "    #now we scrape the table and return the dataframe\n",
    "    return get_df(location, last, first)\n",
    "'''"
   ]
  },
  {
   "cell_type": "markdown",
   "metadata": {},
   "source": [
    "Using the previous functions, we can now parse the unique professor names and input these into the salary database. Some professors may have multiple last names or middle names, which may hinder searching. We condensed names down to only one first name and one last name for this reason."
   ]
  },
  {
   "cell_type": "code",
   "execution_count": 16,
   "metadata": {
    "tags": []
   },
   "outputs": [],
   "source": [
    "ignore6 ='''\n",
    "df = pd.read_csv('uniqueProfNames.csv')\n",
    "df_names = df.iloc[:, 1]\n",
    "\n",
    "df_prof_salary = pd.DataFrame() #create empty dataframe\n",
    "\n",
    "for name in df_names:\n",
    "    chunks_fl = name.split(',') #split the name into first-middle and last\n",
    "    chunks_lm = chunks_fl[0].split(' ') #split the last name\n",
    "    chunks_fm = chunks_fl[1].split(' ') #split the first name \n",
    "\n",
    "    last = chunks_lm[0].upper() #get only one last name\n",
    "    first = chunks_fm[1].upper() #get only one first name\n",
    "    \n",
    "    df_prof_salary = df_prof_salary.append(search_prof_salary(\"San Diego\", last, first), ignore_index=True)\n",
    "'''"
   ]
  },
  {
   "cell_type": "markdown",
   "metadata": {},
   "source": [
    "Since the previous cell has a long run-time (~20 minutes), we will save the dataframe in a csv for easier recall later."
   ]
  },
  {
   "cell_type": "code",
   "execution_count": 17,
   "metadata": {},
   "outputs": [],
   "source": [
    "ignore7 ='''\n",
    "df_prof_salary.to_csv('df_prof_salary.csv', index=False, header=True)\n",
    "'''"
   ]
  },
  {
   "cell_type": "code",
   "execution_count": 18,
   "metadata": {
    "tags": []
   },
   "outputs": [
    {
     "data": {
      "text/html": [
       "<div>\n",
       "<style scoped>\n",
       "    .dataframe tbody tr th:only-of-type {\n",
       "        vertical-align: middle;\n",
       "    }\n",
       "\n",
       "    .dataframe tbody tr th {\n",
       "        vertical-align: top;\n",
       "    }\n",
       "\n",
       "    .dataframe thead th {\n",
       "        text-align: right;\n",
       "    }\n",
       "</style>\n",
       "<table border=\"1\" class=\"dataframe\">\n",
       "  <thead>\n",
       "    <tr style=\"text-align: right;\">\n",
       "      <th></th>\n",
       "      <th>Year</th>\n",
       "      <th>Location</th>\n",
       "      <th>First Name</th>\n",
       "      <th>Last Name</th>\n",
       "      <th>Title</th>\n",
       "      <th>Gross Pay</th>\n",
       "      <th>Regular Pay</th>\n",
       "      <th>Overtime Pay</th>\n",
       "      <th>Other Pay</th>\n",
       "    </tr>\n",
       "  </thead>\n",
       "  <tbody>\n",
       "    <tr>\n",
       "      <th>0</th>\n",
       "      <td>2020.0</td>\n",
       "      <td>San Diego</td>\n",
       "      <td>ELIZABETH</td>\n",
       "      <td>BUTLER</td>\n",
       "      <td>LECT-AY-1/9</td>\n",
       "      <td>4,795.00</td>\n",
       "      <td>4,795.00</td>\n",
       "      <td>0</td>\n",
       "      <td>0</td>\n",
       "    </tr>\n",
       "    <tr>\n",
       "      <th>1</th>\n",
       "      <td>2020.0</td>\n",
       "      <td>San Diego</td>\n",
       "      <td>CHANDLER</td>\n",
       "      <td>PURITTY</td>\n",
       "      <td>BLANK AST 3</td>\n",
       "      <td>25,494.00</td>\n",
       "      <td>25,494.00</td>\n",
       "      <td>0</td>\n",
       "      <td>0</td>\n",
       "    </tr>\n",
       "    <tr>\n",
       "      <th>2</th>\n",
       "      <td>2020.0</td>\n",
       "      <td>San Diego</td>\n",
       "      <td>ABIGAIL</td>\n",
       "      <td>ANDREWS</td>\n",
       "      <td>ASST PROF-AY</td>\n",
       "      <td>99,067.00</td>\n",
       "      <td>99,067.00</td>\n",
       "      <td>0</td>\n",
       "      <td>0</td>\n",
       "    </tr>\n",
       "    <tr>\n",
       "      <th>3</th>\n",
       "      <td>2020.0</td>\n",
       "      <td>San Diego</td>\n",
       "      <td>IAN</td>\n",
       "      <td>JONES</td>\n",
       "      <td>TUT-NON STDNT</td>\n",
       "      <td>49,427.00</td>\n",
       "      <td>42,787.00</td>\n",
       "      <td>0</td>\n",
       "      <td>6,640.00</td>\n",
       "    </tr>\n",
       "    <tr>\n",
       "      <th>4</th>\n",
       "      <td>2020.0</td>\n",
       "      <td>San Diego</td>\n",
       "      <td>NEIL</td>\n",
       "      <td>SMITH</td>\n",
       "      <td>LECT-AY-1/9</td>\n",
       "      <td>6,265.00</td>\n",
       "      <td>6,265.00</td>\n",
       "      <td>0</td>\n",
       "      <td>0</td>\n",
       "    </tr>\n",
       "    <tr>\n",
       "      <th>...</th>\n",
       "      <td>...</td>\n",
       "      <td>...</td>\n",
       "      <td>...</td>\n",
       "      <td>...</td>\n",
       "      <td>...</td>\n",
       "      <td>...</td>\n",
       "      <td>...</td>\n",
       "      <td>...</td>\n",
       "      <td>...</td>\n",
       "    </tr>\n",
       "    <tr>\n",
       "      <th>866</th>\n",
       "      <td>2020.0</td>\n",
       "      <td>San Diego</td>\n",
       "      <td>IAN</td>\n",
       "      <td>JONES</td>\n",
       "      <td>TUT-NON STDNT</td>\n",
       "      <td>49,427.00</td>\n",
       "      <td>42,787.00</td>\n",
       "      <td>0</td>\n",
       "      <td>6,640.00</td>\n",
       "    </tr>\n",
       "    <tr>\n",
       "      <th>867</th>\n",
       "      <td>2020.0</td>\n",
       "      <td>San Diego</td>\n",
       "      <td>NEIL</td>\n",
       "      <td>SMITH</td>\n",
       "      <td>LECT-AY-1/9</td>\n",
       "      <td>6,265.00</td>\n",
       "      <td>6,265.00</td>\n",
       "      <td>0</td>\n",
       "      <td>0</td>\n",
       "    </tr>\n",
       "    <tr>\n",
       "      <th>868</th>\n",
       "      <td>2020.0</td>\n",
       "      <td>San Diego</td>\n",
       "      <td>PATRICK</td>\n",
       "      <td>FOX</td>\n",
       "      <td>ASST PROF-AY</td>\n",
       "      <td>84,400.00</td>\n",
       "      <td>84,400.00</td>\n",
       "      <td>0</td>\n",
       "      <td>0</td>\n",
       "    </tr>\n",
       "    <tr>\n",
       "      <th>869</th>\n",
       "      <td>2020.0</td>\n",
       "      <td>San Diego</td>\n",
       "      <td>EKATERINI</td>\n",
       "      <td>SEMENDEFERI</td>\n",
       "      <td>PROF-AY</td>\n",
       "      <td>157,811.00</td>\n",
       "      <td>140,467.00</td>\n",
       "      <td>0</td>\n",
       "      <td>17,344.00</td>\n",
       "    </tr>\n",
       "    <tr>\n",
       "      <th>870</th>\n",
       "      <td>2020.0</td>\n",
       "      <td>San Diego</td>\n",
       "      <td>PASCAL</td>\n",
       "      <td>GAGNEUX</td>\n",
       "      <td>PROF-HCOMP</td>\n",
       "      <td>125,583.00</td>\n",
       "      <td>123,300.00</td>\n",
       "      <td>0</td>\n",
       "      <td>2,283.00</td>\n",
       "    </tr>\n",
       "  </tbody>\n",
       "</table>\n",
       "<p>871 rows × 9 columns</p>\n",
       "</div>"
      ],
      "text/plain": [
       "       Year   Location First Name    Last Name          Title   Gross Pay  \\\n",
       "0    2020.0  San Diego  ELIZABETH       BUTLER    LECT-AY-1/9    4,795.00   \n",
       "1    2020.0  San Diego   CHANDLER      PURITTY    BLANK AST 3   25,494.00   \n",
       "2    2020.0  San Diego    ABIGAIL      ANDREWS   ASST PROF-AY   99,067.00   \n",
       "3    2020.0  San Diego        IAN        JONES  TUT-NON STDNT   49,427.00   \n",
       "4    2020.0  San Diego       NEIL        SMITH    LECT-AY-1/9    6,265.00   \n",
       "..      ...        ...        ...          ...            ...         ...   \n",
       "866  2020.0  San Diego        IAN        JONES  TUT-NON STDNT   49,427.00   \n",
       "867  2020.0  San Diego       NEIL        SMITH    LECT-AY-1/9    6,265.00   \n",
       "868  2020.0  San Diego    PATRICK          FOX   ASST PROF-AY   84,400.00   \n",
       "869  2020.0  San Diego  EKATERINI  SEMENDEFERI        PROF-AY  157,811.00   \n",
       "870  2020.0  San Diego     PASCAL      GAGNEUX     PROF-HCOMP  125,583.00   \n",
       "\n",
       "    Regular Pay Overtime Pay  Other Pay  \n",
       "0      4,795.00            0          0  \n",
       "1     25,494.00            0          0  \n",
       "2     99,067.00            0          0  \n",
       "3     42,787.00            0   6,640.00  \n",
       "4      6,265.00            0          0  \n",
       "..          ...          ...        ...  \n",
       "866   42,787.00            0   6,640.00  \n",
       "867    6,265.00            0          0  \n",
       "868   84,400.00            0          0  \n",
       "869  140,467.00            0  17,344.00  \n",
       "870  123,300.00            0   2,283.00  \n",
       "\n",
       "[871 rows x 9 columns]"
      ]
     },
     "execution_count": 18,
     "metadata": {},
     "output_type": "execute_result"
    }
   ],
   "source": [
    "df_prof_salary = pd.read_csv('df_prof_salary.csv')\n",
    "df_prof_salary"
   ]
  },
  {
   "cell_type": "markdown",
   "metadata": {},
   "source": [
    "With the data above, there may be instances of \"duplicate\" values. In some cases, two employees at the same university will have the same name. In this case, we have to look at the title, and only accept lecturers or professors into the data.\n",
    "\n",
    "Below is a truncated table displaying some of these duplicated values."
   ]
  },
  {
   "cell_type": "code",
   "execution_count": 19,
   "metadata": {},
   "outputs": [
    {
     "data": {
      "text/html": [
       "<div>\n",
       "<style scoped>\n",
       "    .dataframe tbody tr th:only-of-type {\n",
       "        vertical-align: middle;\n",
       "    }\n",
       "\n",
       "    .dataframe tbody tr th {\n",
       "        vertical-align: top;\n",
       "    }\n",
       "\n",
       "    .dataframe thead th {\n",
       "        text-align: right;\n",
       "    }\n",
       "</style>\n",
       "<table border=\"1\" class=\"dataframe\">\n",
       "  <thead>\n",
       "    <tr style=\"text-align: right;\">\n",
       "      <th></th>\n",
       "      <th>Year</th>\n",
       "      <th>Location</th>\n",
       "      <th>First Name</th>\n",
       "      <th>Last Name</th>\n",
       "      <th>Title</th>\n",
       "      <th>Gross Pay</th>\n",
       "      <th>Regular Pay</th>\n",
       "      <th>Overtime Pay</th>\n",
       "      <th>Other Pay</th>\n",
       "    </tr>\n",
       "  </thead>\n",
       "  <tbody>\n",
       "    <tr>\n",
       "      <th>2</th>\n",
       "      <td>2020.0</td>\n",
       "      <td>San Diego</td>\n",
       "      <td>ABIGAIL</td>\n",
       "      <td>ANDREWS</td>\n",
       "      <td>ASST PROF-AY</td>\n",
       "      <td>99,067.00</td>\n",
       "      <td>99,067.00</td>\n",
       "      <td>0</td>\n",
       "      <td>0</td>\n",
       "    </tr>\n",
       "    <tr>\n",
       "      <th>865</th>\n",
       "      <td>2020.0</td>\n",
       "      <td>San Diego</td>\n",
       "      <td>ABIGAIL</td>\n",
       "      <td>ANDREWS</td>\n",
       "      <td>ASST PROF-AY</td>\n",
       "      <td>99,067.00</td>\n",
       "      <td>99,067.00</td>\n",
       "      <td>0</td>\n",
       "      <td>0</td>\n",
       "    </tr>\n",
       "    <tr>\n",
       "      <th>756</th>\n",
       "      <td>2020.0</td>\n",
       "      <td>San Diego</td>\n",
       "      <td>ANDREW</td>\n",
       "      <td>LUCAS</td>\n",
       "      <td>CLIN INFORMATICS SUPV 2</td>\n",
       "      <td>139,020.00</td>\n",
       "      <td>138,020.00</td>\n",
       "      <td>0</td>\n",
       "      <td>1,000.00</td>\n",
       "    </tr>\n",
       "    <tr>\n",
       "      <th>757</th>\n",
       "      <td>2020.0</td>\n",
       "      <td>San Diego</td>\n",
       "      <td>ANDREW</td>\n",
       "      <td>LUCAS</td>\n",
       "      <td>ASST PROF-AY</td>\n",
       "      <td>144,017.00</td>\n",
       "      <td>103,903.00</td>\n",
       "      <td>0</td>\n",
       "      <td>40,114.00</td>\n",
       "    </tr>\n",
       "    <tr>\n",
       "      <th>618</th>\n",
       "      <td>2020.0</td>\n",
       "      <td>San Diego</td>\n",
       "      <td>ANTHONY</td>\n",
       "      <td>DAVIS</td>\n",
       "      <td>PROF-AY</td>\n",
       "      <td>215,400.00</td>\n",
       "      <td>215,400.00</td>\n",
       "      <td>0</td>\n",
       "      <td>0</td>\n",
       "    </tr>\n",
       "    <tr>\n",
       "      <th>617</th>\n",
       "      <td>2020.0</td>\n",
       "      <td>San Diego</td>\n",
       "      <td>ANTHONY</td>\n",
       "      <td>DAVIS</td>\n",
       "      <td>PAT ESCORT</td>\n",
       "      <td>44,887.00</td>\n",
       "      <td>39,195.00</td>\n",
       "      <td>2,270.00</td>\n",
       "      <td>3,422.00</td>\n",
       "    </tr>\n",
       "    <tr>\n",
       "      <th>1</th>\n",
       "      <td>2020.0</td>\n",
       "      <td>San Diego</td>\n",
       "      <td>CHANDLER</td>\n",
       "      <td>PURITTY</td>\n",
       "      <td>BLANK AST 3</td>\n",
       "      <td>25,494.00</td>\n",
       "      <td>25,494.00</td>\n",
       "      <td>0</td>\n",
       "      <td>0</td>\n",
       "    </tr>\n",
       "    <tr>\n",
       "      <th>864</th>\n",
       "      <td>2020.0</td>\n",
       "      <td>San Diego</td>\n",
       "      <td>CHANDLER</td>\n",
       "      <td>PURITTY</td>\n",
       "      <td>BLANK AST 3</td>\n",
       "      <td>25,494.00</td>\n",
       "      <td>25,494.00</td>\n",
       "      <td>0</td>\n",
       "      <td>0</td>\n",
       "    </tr>\n",
       "    <tr>\n",
       "      <th>192</th>\n",
       "      <td>2020.0</td>\n",
       "      <td>San Diego</td>\n",
       "      <td>CHRISTINE</td>\n",
       "      <td>JOHNSON</td>\n",
       "      <td>PROJECT POLICY ANL 3</td>\n",
       "      <td>88,749.00</td>\n",
       "      <td>82,416.00</td>\n",
       "      <td>0</td>\n",
       "      <td>6,333.00</td>\n",
       "    </tr>\n",
       "    <tr>\n",
       "      <th>193</th>\n",
       "      <td>2020.0</td>\n",
       "      <td>San Diego</td>\n",
       "      <td>CHRISTINE</td>\n",
       "      <td>JOHNSON</td>\n",
       "      <td>LECT-AY-CONTINUING</td>\n",
       "      <td>119,968.00</td>\n",
       "      <td>96,814.00</td>\n",
       "      <td>0</td>\n",
       "      <td>23,154.00</td>\n",
       "    </tr>\n",
       "  </tbody>\n",
       "</table>\n",
       "</div>"
      ],
      "text/plain": [
       "       Year   Location First Name Last Name                    Title  \\\n",
       "2    2020.0  San Diego    ABIGAIL   ANDREWS             ASST PROF-AY   \n",
       "865  2020.0  San Diego    ABIGAIL   ANDREWS             ASST PROF-AY   \n",
       "756  2020.0  San Diego     ANDREW     LUCAS  CLIN INFORMATICS SUPV 2   \n",
       "757  2020.0  San Diego     ANDREW     LUCAS             ASST PROF-AY   \n",
       "618  2020.0  San Diego    ANTHONY     DAVIS                  PROF-AY   \n",
       "617  2020.0  San Diego    ANTHONY     DAVIS               PAT ESCORT   \n",
       "1    2020.0  San Diego   CHANDLER   PURITTY              BLANK AST 3   \n",
       "864  2020.0  San Diego   CHANDLER   PURITTY              BLANK AST 3   \n",
       "192  2020.0  San Diego  CHRISTINE   JOHNSON     PROJECT POLICY ANL 3   \n",
       "193  2020.0  San Diego  CHRISTINE   JOHNSON       LECT-AY-CONTINUING   \n",
       "\n",
       "      Gross Pay Regular Pay Overtime Pay  Other Pay  \n",
       "2     99,067.00   99,067.00            0          0  \n",
       "865   99,067.00   99,067.00            0          0  \n",
       "756  139,020.00  138,020.00            0   1,000.00  \n",
       "757  144,017.00  103,903.00            0  40,114.00  \n",
       "618  215,400.00  215,400.00            0          0  \n",
       "617   44,887.00   39,195.00     2,270.00   3,422.00  \n",
       "1     25,494.00   25,494.00            0          0  \n",
       "864   25,494.00   25,494.00            0          0  \n",
       "192   88,749.00   82,416.00            0   6,333.00  \n",
       "193  119,968.00   96,814.00            0  23,154.00  "
      ]
     },
     "execution_count": 19,
     "metadata": {},
     "output_type": "execute_result"
    }
   ],
   "source": [
    "df_prof_salary[df_prof_salary.duplicated(subset=['First Name', 'Last Name'], keep=False)].sort_values('First Name')[:10]"
   ]
  },
  {
   "cell_type": "markdown",
   "metadata": {},
   "source": [
    "Based on the title of employment, we will only allow titles that include \"LECT\", \"PROF\", or \"PROVOST\" to ensure only teaching positions are in the data."
   ]
  },
  {
   "cell_type": "code",
   "execution_count": 20,
   "metadata": {},
   "outputs": [],
   "source": [
    "df_prof_salary = df_prof_salary[df_prof_salary['Title'].str.contains(\"PROF\") | df_prof_salary['Title'].str.contains(\"LECT\") | df_prof_salary['Title'].str.contains(\"PROVOST\")] "
   ]
  },
  {
   "cell_type": "markdown",
   "metadata": {},
   "source": [
    "The following is all the unique values for employee titles. We can see that there are no longer non-teaching titles in the dataframe."
   ]
  },
  {
   "cell_type": "code",
   "execution_count": 21,
   "metadata": {
    "scrolled": true
   },
   "outputs": [
    {
     "name": "stdout",
     "output_type": "stream",
     "text": [
      "['ACT ASSOC PROF-AY', 'ADJ PROF-AY', 'ADJ PROF-AY-B/E/E', 'ADJ PROF-FY', 'ASSOC ADJ PROF-FY', 'ASSOC PROF IN RES-AY-B/E/E', 'ASSOC PROF-AY', 'ASSOC PROF-AY-B/E/E', 'ASSOC PROF-HCOMP', 'ASST ADJ PROF-FY', 'ASST ADJ PROF-HCOMP', 'ASST PROF-AY', 'ASST PROF-AY-1/9', 'ASST PROF-AY-B/E/E', 'ASST PROF-HCOMP', 'COLLEGE PROVOST', 'HS ASSOC CLIN PROF-HCOMP', 'HS CLIN PROF-HCOMP', 'LECT IN SUMMER SESSION', 'LECT PSOE-AY', 'LECT PSOE-AY-1/9', 'LECT PSOE-AY-B/E/E', 'LECT SOE-AY', 'LECT SOE-AY-B/E/E', 'LECT-AY', 'LECT-AY-1/9', 'LECT-AY-1/9-CONTINUING', 'LECT-AY-CONTINUING', 'LECT-FY', 'PROF-AY', 'PROF-AY-B/E/E', 'PROF-FY', 'PROF-HCOMP', 'SR LECT SOE-AY', 'SR LECT SOE-AY-B/E/E', 'VIS ASSOC PROF', 'VIS ASST PROF', 'VIS PROF']\n"
     ]
    }
   ],
   "source": [
    "a = df_prof_salary['Title'].unique()\n",
    "print(sorted(a))"
   ]
  },
  {
   "cell_type": "markdown",
   "metadata": {},
   "source": [
    "After filtering out all non-teaching positons, the resulting truncated table of duplicates is as follows:"
   ]
  },
  {
   "cell_type": "code",
   "execution_count": 22,
   "metadata": {},
   "outputs": [
    {
     "data": {
      "text/html": [
       "<div>\n",
       "<style scoped>\n",
       "    .dataframe tbody tr th:only-of-type {\n",
       "        vertical-align: middle;\n",
       "    }\n",
       "\n",
       "    .dataframe tbody tr th {\n",
       "        vertical-align: top;\n",
       "    }\n",
       "\n",
       "    .dataframe thead th {\n",
       "        text-align: right;\n",
       "    }\n",
       "</style>\n",
       "<table border=\"1\" class=\"dataframe\">\n",
       "  <thead>\n",
       "    <tr style=\"text-align: right;\">\n",
       "      <th></th>\n",
       "      <th>Year</th>\n",
       "      <th>Location</th>\n",
       "      <th>First Name</th>\n",
       "      <th>Last Name</th>\n",
       "      <th>Title</th>\n",
       "      <th>Gross Pay</th>\n",
       "      <th>Regular Pay</th>\n",
       "      <th>Overtime Pay</th>\n",
       "      <th>Other Pay</th>\n",
       "    </tr>\n",
       "  </thead>\n",
       "  <tbody>\n",
       "    <tr>\n",
       "      <th>2</th>\n",
       "      <td>2020.0</td>\n",
       "      <td>San Diego</td>\n",
       "      <td>ABIGAIL</td>\n",
       "      <td>ANDREWS</td>\n",
       "      <td>ASST PROF-AY</td>\n",
       "      <td>99,067.00</td>\n",
       "      <td>99,067.00</td>\n",
       "      <td>0</td>\n",
       "      <td>0</td>\n",
       "    </tr>\n",
       "    <tr>\n",
       "      <th>865</th>\n",
       "      <td>2020.0</td>\n",
       "      <td>San Diego</td>\n",
       "      <td>ABIGAIL</td>\n",
       "      <td>ANDREWS</td>\n",
       "      <td>ASST PROF-AY</td>\n",
       "      <td>99,067.00</td>\n",
       "      <td>99,067.00</td>\n",
       "      <td>0</td>\n",
       "      <td>0</td>\n",
       "    </tr>\n",
       "    <tr>\n",
       "      <th>7</th>\n",
       "      <td>2020.0</td>\n",
       "      <td>San Diego</td>\n",
       "      <td>EKATERINI</td>\n",
       "      <td>SEMENDEFERI</td>\n",
       "      <td>PROF-AY</td>\n",
       "      <td>157,811.00</td>\n",
       "      <td>140,467.00</td>\n",
       "      <td>0</td>\n",
       "      <td>17,344.00</td>\n",
       "    </tr>\n",
       "    <tr>\n",
       "      <th>869</th>\n",
       "      <td>2020.0</td>\n",
       "      <td>San Diego</td>\n",
       "      <td>EKATERINI</td>\n",
       "      <td>SEMENDEFERI</td>\n",
       "      <td>PROF-AY</td>\n",
       "      <td>157,811.00</td>\n",
       "      <td>140,467.00</td>\n",
       "      <td>0</td>\n",
       "      <td>17,344.00</td>\n",
       "    </tr>\n",
       "    <tr>\n",
       "      <th>0</th>\n",
       "      <td>2020.0</td>\n",
       "      <td>San Diego</td>\n",
       "      <td>ELIZABETH</td>\n",
       "      <td>BUTLER</td>\n",
       "      <td>LECT-AY-1/9</td>\n",
       "      <td>4,795.00</td>\n",
       "      <td>4,795.00</td>\n",
       "      <td>0</td>\n",
       "      <td>0</td>\n",
       "    </tr>\n",
       "    <tr>\n",
       "      <th>863</th>\n",
       "      <td>2020.0</td>\n",
       "      <td>San Diego</td>\n",
       "      <td>ELIZABETH</td>\n",
       "      <td>BUTLER</td>\n",
       "      <td>LECT-AY-1/9</td>\n",
       "      <td>4,795.00</td>\n",
       "      <td>4,795.00</td>\n",
       "      <td>0</td>\n",
       "      <td>0</td>\n",
       "    </tr>\n",
       "    <tr>\n",
       "      <th>831</th>\n",
       "      <td>2020.0</td>\n",
       "      <td>San Diego</td>\n",
       "      <td>MALGORZATA</td>\n",
       "      <td>HERC-BALASZEK</td>\n",
       "      <td>LECT-AY</td>\n",
       "      <td>9,350.00</td>\n",
       "      <td>9,350.00</td>\n",
       "      <td>0</td>\n",
       "      <td>0</td>\n",
       "    </tr>\n",
       "    <tr>\n",
       "      <th>832</th>\n",
       "      <td>2020.0</td>\n",
       "      <td>San Diego</td>\n",
       "      <td>MALGORZATA</td>\n",
       "      <td>HERC-BALASZEK</td>\n",
       "      <td>LECT-AY-1/9</td>\n",
       "      <td>2,067.00</td>\n",
       "      <td>2,067.00</td>\n",
       "      <td>0</td>\n",
       "      <td>0</td>\n",
       "    </tr>\n",
       "    <tr>\n",
       "      <th>141</th>\n",
       "      <td>2020.0</td>\n",
       "      <td>San Diego</td>\n",
       "      <td>MARK</td>\n",
       "      <td>YOUNG</td>\n",
       "      <td>LECT-AY</td>\n",
       "      <td>69,924.00</td>\n",
       "      <td>59,764.00</td>\n",
       "      <td>0</td>\n",
       "      <td>10,160.00</td>\n",
       "    </tr>\n",
       "    <tr>\n",
       "      <th>142</th>\n",
       "      <td>2020.0</td>\n",
       "      <td>San Diego</td>\n",
       "      <td>MARK</td>\n",
       "      <td>YOUNG</td>\n",
       "      <td>LECT SOE-AY</td>\n",
       "      <td>105,400.00</td>\n",
       "      <td>105,400.00</td>\n",
       "      <td>0</td>\n",
       "      <td>0</td>\n",
       "    </tr>\n",
       "  </tbody>\n",
       "</table>\n",
       "</div>"
      ],
      "text/plain": [
       "       Year   Location  First Name      Last Name         Title   Gross Pay  \\\n",
       "2    2020.0  San Diego     ABIGAIL        ANDREWS  ASST PROF-AY   99,067.00   \n",
       "865  2020.0  San Diego     ABIGAIL        ANDREWS  ASST PROF-AY   99,067.00   \n",
       "7    2020.0  San Diego   EKATERINI    SEMENDEFERI       PROF-AY  157,811.00   \n",
       "869  2020.0  San Diego   EKATERINI    SEMENDEFERI       PROF-AY  157,811.00   \n",
       "0    2020.0  San Diego   ELIZABETH         BUTLER   LECT-AY-1/9    4,795.00   \n",
       "863  2020.0  San Diego   ELIZABETH         BUTLER   LECT-AY-1/9    4,795.00   \n",
       "831  2020.0  San Diego  MALGORZATA  HERC-BALASZEK       LECT-AY    9,350.00   \n",
       "832  2020.0  San Diego  MALGORZATA  HERC-BALASZEK   LECT-AY-1/9    2,067.00   \n",
       "141  2020.0  San Diego        MARK          YOUNG       LECT-AY   69,924.00   \n",
       "142  2020.0  San Diego        MARK          YOUNG   LECT SOE-AY  105,400.00   \n",
       "\n",
       "    Regular Pay Overtime Pay  Other Pay  \n",
       "2     99,067.00            0          0  \n",
       "865   99,067.00            0          0  \n",
       "7    140,467.00            0  17,344.00  \n",
       "869  140,467.00            0  17,344.00  \n",
       "0      4,795.00            0          0  \n",
       "863    4,795.00            0          0  \n",
       "831    9,350.00            0          0  \n",
       "832    2,067.00            0          0  \n",
       "141   59,764.00            0  10,160.00  \n",
       "142  105,400.00            0          0  "
      ]
     },
     "execution_count": 22,
     "metadata": {},
     "output_type": "execute_result"
    }
   ],
   "source": [
    "df_prof_salary[df_prof_salary.duplicated(subset=['First Name', 'Last Name'], keep=False)].sort_values('First Name')[:10]"
   ]
  },
  {
   "cell_type": "markdown",
   "metadata": {},
   "source": [
    "We still have duplicates, but these are all teaching positions. For some values, the case may be that they were simply recorded twice, and for others, the case may be that there are two or more professors of the same name at the university. In the first case, we can drop the duplicate and keep the original. In the second case, we will need to drop both values, as we cannot be sure which salary belongs to the corresponding CAPES review."
   ]
  },
  {
   "cell_type": "code",
   "execution_count": 23,
   "metadata": {},
   "outputs": [],
   "source": [
    "# drop pure duplicates\n",
    "df_prof_salary = df_prof_salary.drop_duplicates(keep='first')"
   ]
  },
  {
   "cell_type": "code",
   "execution_count": 24,
   "metadata": {},
   "outputs": [
    {
     "data": {
      "text/html": [
       "<div>\n",
       "<style scoped>\n",
       "    .dataframe tbody tr th:only-of-type {\n",
       "        vertical-align: middle;\n",
       "    }\n",
       "\n",
       "    .dataframe tbody tr th {\n",
       "        vertical-align: top;\n",
       "    }\n",
       "\n",
       "    .dataframe thead th {\n",
       "        text-align: right;\n",
       "    }\n",
       "</style>\n",
       "<table border=\"1\" class=\"dataframe\">\n",
       "  <thead>\n",
       "    <tr style=\"text-align: right;\">\n",
       "      <th></th>\n",
       "      <th>Year</th>\n",
       "      <th>Location</th>\n",
       "      <th>First Name</th>\n",
       "      <th>Last Name</th>\n",
       "      <th>Title</th>\n",
       "      <th>Gross Pay</th>\n",
       "      <th>Regular Pay</th>\n",
       "      <th>Overtime Pay</th>\n",
       "      <th>Other Pay</th>\n",
       "    </tr>\n",
       "  </thead>\n",
       "  <tbody>\n",
       "    <tr>\n",
       "      <th>831</th>\n",
       "      <td>2020.0</td>\n",
       "      <td>San Diego</td>\n",
       "      <td>MALGORZATA</td>\n",
       "      <td>HERC-BALASZEK</td>\n",
       "      <td>LECT-AY</td>\n",
       "      <td>9,350.00</td>\n",
       "      <td>9,350.00</td>\n",
       "      <td>0</td>\n",
       "      <td>0</td>\n",
       "    </tr>\n",
       "    <tr>\n",
       "      <th>832</th>\n",
       "      <td>2020.0</td>\n",
       "      <td>San Diego</td>\n",
       "      <td>MALGORZATA</td>\n",
       "      <td>HERC-BALASZEK</td>\n",
       "      <td>LECT-AY-1/9</td>\n",
       "      <td>2,067.00</td>\n",
       "      <td>2,067.00</td>\n",
       "      <td>0</td>\n",
       "      <td>0</td>\n",
       "    </tr>\n",
       "    <tr>\n",
       "      <th>141</th>\n",
       "      <td>2020.0</td>\n",
       "      <td>San Diego</td>\n",
       "      <td>MARK</td>\n",
       "      <td>YOUNG</td>\n",
       "      <td>LECT-AY</td>\n",
       "      <td>69,924.00</td>\n",
       "      <td>59,764.00</td>\n",
       "      <td>0</td>\n",
       "      <td>10,160.00</td>\n",
       "    </tr>\n",
       "    <tr>\n",
       "      <th>142</th>\n",
       "      <td>2020.0</td>\n",
       "      <td>San Diego</td>\n",
       "      <td>MARK</td>\n",
       "      <td>YOUNG</td>\n",
       "      <td>LECT SOE-AY</td>\n",
       "      <td>105,400.00</td>\n",
       "      <td>105,400.00</td>\n",
       "      <td>0</td>\n",
       "      <td>0</td>\n",
       "    </tr>\n",
       "    <tr>\n",
       "      <th>694</th>\n",
       "      <td>2020.0</td>\n",
       "      <td>San Diego</td>\n",
       "      <td>WILLIAM</td>\n",
       "      <td>WACHOB</td>\n",
       "      <td>LECT-AY-1/9</td>\n",
       "      <td>5,560.00</td>\n",
       "      <td>5,560.00</td>\n",
       "      <td>0</td>\n",
       "      <td>0</td>\n",
       "    </tr>\n",
       "    <tr>\n",
       "      <th>695</th>\n",
       "      <td>2020.0</td>\n",
       "      <td>San Diego</td>\n",
       "      <td>WILLIAM</td>\n",
       "      <td>WACHOB</td>\n",
       "      <td>LECT-AY-1/9</td>\n",
       "      <td>2,780.00</td>\n",
       "      <td>2,780.00</td>\n",
       "      <td>0</td>\n",
       "      <td>0</td>\n",
       "    </tr>\n",
       "  </tbody>\n",
       "</table>\n",
       "</div>"
      ],
      "text/plain": [
       "       Year   Location  First Name      Last Name        Title   Gross Pay  \\\n",
       "831  2020.0  San Diego  MALGORZATA  HERC-BALASZEK      LECT-AY    9,350.00   \n",
       "832  2020.0  San Diego  MALGORZATA  HERC-BALASZEK  LECT-AY-1/9    2,067.00   \n",
       "141  2020.0  San Diego        MARK          YOUNG      LECT-AY   69,924.00   \n",
       "142  2020.0  San Diego        MARK          YOUNG  LECT SOE-AY  105,400.00   \n",
       "694  2020.0  San Diego     WILLIAM         WACHOB  LECT-AY-1/9    5,560.00   \n",
       "695  2020.0  San Diego     WILLIAM         WACHOB  LECT-AY-1/9    2,780.00   \n",
       "\n",
       "    Regular Pay Overtime Pay  Other Pay  \n",
       "831    9,350.00            0          0  \n",
       "832    2,067.00            0          0  \n",
       "141   59,764.00            0  10,160.00  \n",
       "142  105,400.00            0          0  \n",
       "694    5,560.00            0          0  \n",
       "695    2,780.00            0          0  "
      ]
     },
     "execution_count": 24,
     "metadata": {},
     "output_type": "execute_result"
    }
   ],
   "source": [
    "df_prof_salary[df_prof_salary.duplicated(subset=['First Name', 'Last Name'], keep=False)].sort_values('First Name')[:]"
   ]
  },
  {
   "cell_type": "markdown",
   "metadata": {},
   "source": [
    "Now, we are left with non-pure duplicates, of which professors either have conflicting salary data, or may be different people altogether. Because we cannot be sure of what their correct salary would be, or what CAPE review they would correspond to, we will drop these remaining values from the dataset."
   ]
  },
  {
   "cell_type": "code",
   "execution_count": 25,
   "metadata": {},
   "outputs": [],
   "source": [
    "df_prof_salary = df_prof_salary.drop_duplicates(subset=['First Name', 'Last Name'], keep=False)"
   ]
  },
  {
   "cell_type": "code",
   "execution_count": 26,
   "metadata": {},
   "outputs": [],
   "source": [
    "df_prof_salary = df_prof_salary.reset_index(drop=True)"
   ]
  },
  {
   "cell_type": "markdown",
   "metadata": {},
   "source": [
    "Now, all we need to do is make sure there are no null values in the dataframe."
   ]
  },
  {
   "cell_type": "code",
   "execution_count": 27,
   "metadata": {},
   "outputs": [],
   "source": [
    "#get rid of rows with null values \n",
    "df_prof_salary = df_prof_salary.dropna()"
   ]
  },
  {
   "cell_type": "code",
   "execution_count": 28,
   "metadata": {},
   "outputs": [
    {
     "data": {
      "text/plain": [
       "Year            0\n",
       "Location        0\n",
       "First Name      0\n",
       "Last Name       0\n",
       "Title           0\n",
       "Gross Pay       0\n",
       "Regular Pay     0\n",
       "Overtime Pay    0\n",
       "Other Pay       0\n",
       "dtype: int64"
      ]
     },
     "execution_count": 28,
     "metadata": {},
     "output_type": "execute_result"
    }
   ],
   "source": [
    "df_prof_salary.isna().sum()"
   ]
  },
  {
   "cell_type": "code",
   "execution_count": 29,
   "metadata": {
    "scrolled": true
   },
   "outputs": [
    {
     "data": {
      "text/html": [
       "<div>\n",
       "<style scoped>\n",
       "    .dataframe tbody tr th:only-of-type {\n",
       "        vertical-align: middle;\n",
       "    }\n",
       "\n",
       "    .dataframe tbody tr th {\n",
       "        vertical-align: top;\n",
       "    }\n",
       "\n",
       "    .dataframe thead th {\n",
       "        text-align: right;\n",
       "    }\n",
       "</style>\n",
       "<table border=\"1\" class=\"dataframe\">\n",
       "  <thead>\n",
       "    <tr style=\"text-align: right;\">\n",
       "      <th></th>\n",
       "      <th>Year</th>\n",
       "      <th>Location</th>\n",
       "      <th>First Name</th>\n",
       "      <th>Last Name</th>\n",
       "      <th>Title</th>\n",
       "      <th>Gross Pay</th>\n",
       "      <th>Regular Pay</th>\n",
       "      <th>Overtime Pay</th>\n",
       "      <th>Other Pay</th>\n",
       "    </tr>\n",
       "  </thead>\n",
       "  <tbody>\n",
       "    <tr>\n",
       "      <th>0</th>\n",
       "      <td>2020.0</td>\n",
       "      <td>San Diego</td>\n",
       "      <td>ELIZABETH</td>\n",
       "      <td>BUTLER</td>\n",
       "      <td>LECT-AY-1/9</td>\n",
       "      <td>4,795.00</td>\n",
       "      <td>4,795.00</td>\n",
       "      <td>0</td>\n",
       "      <td>0</td>\n",
       "    </tr>\n",
       "    <tr>\n",
       "      <th>1</th>\n",
       "      <td>2020.0</td>\n",
       "      <td>San Diego</td>\n",
       "      <td>ABIGAIL</td>\n",
       "      <td>ANDREWS</td>\n",
       "      <td>ASST PROF-AY</td>\n",
       "      <td>99,067.00</td>\n",
       "      <td>99,067.00</td>\n",
       "      <td>0</td>\n",
       "      <td>0</td>\n",
       "    </tr>\n",
       "    <tr>\n",
       "      <th>2</th>\n",
       "      <td>2020.0</td>\n",
       "      <td>San Diego</td>\n",
       "      <td>NEIL</td>\n",
       "      <td>SMITH</td>\n",
       "      <td>LECT-AY-1/9</td>\n",
       "      <td>6,265.00</td>\n",
       "      <td>6,265.00</td>\n",
       "      <td>0</td>\n",
       "      <td>0</td>\n",
       "    </tr>\n",
       "    <tr>\n",
       "      <th>3</th>\n",
       "      <td>2020.0</td>\n",
       "      <td>San Diego</td>\n",
       "      <td>JADE</td>\n",
       "      <td>D'ALPOIM GUEDES</td>\n",
       "      <td>ASSOC PROF-AY</td>\n",
       "      <td>145,067.00</td>\n",
       "      <td>108,800.00</td>\n",
       "      <td>0</td>\n",
       "      <td>36,267.00</td>\n",
       "    </tr>\n",
       "    <tr>\n",
       "      <th>4</th>\n",
       "      <td>2020.0</td>\n",
       "      <td>San Diego</td>\n",
       "      <td>PATRICK</td>\n",
       "      <td>FOX</td>\n",
       "      <td>ASST PROF-AY</td>\n",
       "      <td>84,400.00</td>\n",
       "      <td>84,400.00</td>\n",
       "      <td>0</td>\n",
       "      <td>0</td>\n",
       "    </tr>\n",
       "    <tr>\n",
       "      <th>...</th>\n",
       "      <td>...</td>\n",
       "      <td>...</td>\n",
       "      <td>...</td>\n",
       "      <td>...</td>\n",
       "      <td>...</td>\n",
       "      <td>...</td>\n",
       "      <td>...</td>\n",
       "      <td>...</td>\n",
       "      <td>...</td>\n",
       "    </tr>\n",
       "    <tr>\n",
       "      <th>733</th>\n",
       "      <td>2020.0</td>\n",
       "      <td>San Diego</td>\n",
       "      <td>JESSICA</td>\n",
       "      <td>D'ELENA-TWEED</td>\n",
       "      <td>LECT-AY-1/9</td>\n",
       "      <td>9,097.00</td>\n",
       "      <td>9,097.00</td>\n",
       "      <td>0</td>\n",
       "      <td>0</td>\n",
       "    </tr>\n",
       "    <tr>\n",
       "      <th>734</th>\n",
       "      <td>2020.0</td>\n",
       "      <td>San Diego</td>\n",
       "      <td>JASON</td>\n",
       "      <td>YUAN</td>\n",
       "      <td>PROF-HCOMP</td>\n",
       "      <td>257,667.00</td>\n",
       "      <td>244,705.00</td>\n",
       "      <td>0</td>\n",
       "      <td>12,962.00</td>\n",
       "    </tr>\n",
       "    <tr>\n",
       "      <th>735</th>\n",
       "      <td>2020.0</td>\n",
       "      <td>San Diego</td>\n",
       "      <td>KEITH</td>\n",
       "      <td>MCCLEARY</td>\n",
       "      <td>LECT-AY</td>\n",
       "      <td>69,924.00</td>\n",
       "      <td>59,764.00</td>\n",
       "      <td>0</td>\n",
       "      <td>10,160.00</td>\n",
       "    </tr>\n",
       "    <tr>\n",
       "      <th>736</th>\n",
       "      <td>2020.0</td>\n",
       "      <td>San Diego</td>\n",
       "      <td>NIALL</td>\n",
       "      <td>TWOHIG</td>\n",
       "      <td>LECT-AY</td>\n",
       "      <td>64,844.00</td>\n",
       "      <td>59,764.00</td>\n",
       "      <td>0</td>\n",
       "      <td>5,080.00</td>\n",
       "    </tr>\n",
       "    <tr>\n",
       "      <th>737</th>\n",
       "      <td>2020.0</td>\n",
       "      <td>San Diego</td>\n",
       "      <td>JEFFREY</td>\n",
       "      <td>GAGNON</td>\n",
       "      <td>LECT PSOE-AY</td>\n",
       "      <td>100,854.00</td>\n",
       "      <td>86,200.00</td>\n",
       "      <td>0</td>\n",
       "      <td>14,654.00</td>\n",
       "    </tr>\n",
       "  </tbody>\n",
       "</table>\n",
       "<p>738 rows × 9 columns</p>\n",
       "</div>"
      ],
      "text/plain": [
       "       Year   Location First Name        Last Name          Title   Gross Pay  \\\n",
       "0    2020.0  San Diego  ELIZABETH           BUTLER    LECT-AY-1/9    4,795.00   \n",
       "1    2020.0  San Diego    ABIGAIL          ANDREWS   ASST PROF-AY   99,067.00   \n",
       "2    2020.0  San Diego       NEIL            SMITH    LECT-AY-1/9    6,265.00   \n",
       "3    2020.0  San Diego       JADE  D'ALPOIM GUEDES  ASSOC PROF-AY  145,067.00   \n",
       "4    2020.0  San Diego    PATRICK              FOX   ASST PROF-AY   84,400.00   \n",
       "..      ...        ...        ...              ...            ...         ...   \n",
       "733  2020.0  San Diego    JESSICA    D'ELENA-TWEED    LECT-AY-1/9    9,097.00   \n",
       "734  2020.0  San Diego      JASON             YUAN     PROF-HCOMP  257,667.00   \n",
       "735  2020.0  San Diego      KEITH         MCCLEARY        LECT-AY   69,924.00   \n",
       "736  2020.0  San Diego      NIALL           TWOHIG        LECT-AY   64,844.00   \n",
       "737  2020.0  San Diego    JEFFREY           GAGNON   LECT PSOE-AY  100,854.00   \n",
       "\n",
       "    Regular Pay Overtime Pay  Other Pay  \n",
       "0      4,795.00            0          0  \n",
       "1     99,067.00            0          0  \n",
       "2      6,265.00            0          0  \n",
       "3    108,800.00            0  36,267.00  \n",
       "4     84,400.00            0          0  \n",
       "..          ...          ...        ...  \n",
       "733    9,097.00            0          0  \n",
       "734  244,705.00            0  12,962.00  \n",
       "735   59,764.00            0  10,160.00  \n",
       "736   59,764.00            0   5,080.00  \n",
       "737   86,200.00            0  14,654.00  \n",
       "\n",
       "[738 rows x 9 columns]"
      ]
     },
     "execution_count": 29,
     "metadata": {},
     "output_type": "execute_result"
    }
   ],
   "source": [
    "df_prof_salary"
   ]
  },
  {
   "cell_type": "markdown",
   "metadata": {},
   "source": [
    "Now, the data is ready to be used for analysis since we have removed null values and left only values with the titles we want."
   ]
  },
  {
   "cell_type": "code",
   "execution_count": 30,
   "metadata": {
    "scrolled": true
   },
   "outputs": [],
   "source": [
    "#new column for first and last name combined\n",
    "df_prof_salary['Combined Name']= df_prof_salary['First Name'] + ' ' + df_prof_salary['Last Name']\n",
    "df_prof_salary = df_prof_salary.drop(['Year', 'Location', 'Overtime Pay', 'Other Pay', 'First Name', 'Last Name'], axis=1)"
   ]
  },
  {
   "cell_type": "code",
   "execution_count": 31,
   "metadata": {},
   "outputs": [
    {
     "data": {
      "text/html": [
       "<div>\n",
       "<style scoped>\n",
       "    .dataframe tbody tr th:only-of-type {\n",
       "        vertical-align: middle;\n",
       "    }\n",
       "\n",
       "    .dataframe tbody tr th {\n",
       "        vertical-align: top;\n",
       "    }\n",
       "\n",
       "    .dataframe thead th {\n",
       "        text-align: right;\n",
       "    }\n",
       "</style>\n",
       "<table border=\"1\" class=\"dataframe\">\n",
       "  <thead>\n",
       "    <tr style=\"text-align: right;\">\n",
       "      <th></th>\n",
       "      <th>Title</th>\n",
       "      <th>Gross Pay</th>\n",
       "      <th>Regular Pay</th>\n",
       "      <th>Combined Name</th>\n",
       "    </tr>\n",
       "  </thead>\n",
       "  <tbody>\n",
       "    <tr>\n",
       "      <th>0</th>\n",
       "      <td>LECT-AY-1/9</td>\n",
       "      <td>4,795.00</td>\n",
       "      <td>4,795.00</td>\n",
       "      <td>ELIZABETH BUTLER</td>\n",
       "    </tr>\n",
       "    <tr>\n",
       "      <th>1</th>\n",
       "      <td>ASST PROF-AY</td>\n",
       "      <td>99,067.00</td>\n",
       "      <td>99,067.00</td>\n",
       "      <td>ABIGAIL ANDREWS</td>\n",
       "    </tr>\n",
       "    <tr>\n",
       "      <th>2</th>\n",
       "      <td>LECT-AY-1/9</td>\n",
       "      <td>6,265.00</td>\n",
       "      <td>6,265.00</td>\n",
       "      <td>NEIL SMITH</td>\n",
       "    </tr>\n",
       "    <tr>\n",
       "      <th>3</th>\n",
       "      <td>ASSOC PROF-AY</td>\n",
       "      <td>145,067.00</td>\n",
       "      <td>108,800.00</td>\n",
       "      <td>JADE D'ALPOIM GUEDES</td>\n",
       "    </tr>\n",
       "    <tr>\n",
       "      <th>4</th>\n",
       "      <td>ASST PROF-AY</td>\n",
       "      <td>84,400.00</td>\n",
       "      <td>84,400.00</td>\n",
       "      <td>PATRICK FOX</td>\n",
       "    </tr>\n",
       "    <tr>\n",
       "      <th>...</th>\n",
       "      <td>...</td>\n",
       "      <td>...</td>\n",
       "      <td>...</td>\n",
       "      <td>...</td>\n",
       "    </tr>\n",
       "    <tr>\n",
       "      <th>733</th>\n",
       "      <td>LECT-AY-1/9</td>\n",
       "      <td>9,097.00</td>\n",
       "      <td>9,097.00</td>\n",
       "      <td>JESSICA D'ELENA-TWEED</td>\n",
       "    </tr>\n",
       "    <tr>\n",
       "      <th>734</th>\n",
       "      <td>PROF-HCOMP</td>\n",
       "      <td>257,667.00</td>\n",
       "      <td>244,705.00</td>\n",
       "      <td>JASON YUAN</td>\n",
       "    </tr>\n",
       "    <tr>\n",
       "      <th>735</th>\n",
       "      <td>LECT-AY</td>\n",
       "      <td>69,924.00</td>\n",
       "      <td>59,764.00</td>\n",
       "      <td>KEITH MCCLEARY</td>\n",
       "    </tr>\n",
       "    <tr>\n",
       "      <th>736</th>\n",
       "      <td>LECT-AY</td>\n",
       "      <td>64,844.00</td>\n",
       "      <td>59,764.00</td>\n",
       "      <td>NIALL TWOHIG</td>\n",
       "    </tr>\n",
       "    <tr>\n",
       "      <th>737</th>\n",
       "      <td>LECT PSOE-AY</td>\n",
       "      <td>100,854.00</td>\n",
       "      <td>86,200.00</td>\n",
       "      <td>JEFFREY GAGNON</td>\n",
       "    </tr>\n",
       "  </tbody>\n",
       "</table>\n",
       "<p>738 rows × 4 columns</p>\n",
       "</div>"
      ],
      "text/plain": [
       "             Title   Gross Pay Regular Pay          Combined Name\n",
       "0      LECT-AY-1/9    4,795.00    4,795.00       ELIZABETH BUTLER\n",
       "1     ASST PROF-AY   99,067.00   99,067.00        ABIGAIL ANDREWS\n",
       "2      LECT-AY-1/9    6,265.00    6,265.00             NEIL SMITH\n",
       "3    ASSOC PROF-AY  145,067.00  108,800.00   JADE D'ALPOIM GUEDES\n",
       "4     ASST PROF-AY   84,400.00   84,400.00            PATRICK FOX\n",
       "..             ...         ...         ...                    ...\n",
       "733    LECT-AY-1/9    9,097.00    9,097.00  JESSICA D'ELENA-TWEED\n",
       "734     PROF-HCOMP  257,667.00  244,705.00             JASON YUAN\n",
       "735        LECT-AY   69,924.00   59,764.00         KEITH MCCLEARY\n",
       "736        LECT-AY   64,844.00   59,764.00           NIALL TWOHIG\n",
       "737   LECT PSOE-AY  100,854.00   86,200.00         JEFFREY GAGNON\n",
       "\n",
       "[738 rows x 4 columns]"
      ]
     },
     "execution_count": 31,
     "metadata": {},
     "output_type": "execute_result"
    }
   ],
   "source": [
    "df_prof_salary"
   ]
  },
  {
   "cell_type": "code",
   "execution_count": 32,
   "metadata": {},
   "outputs": [],
   "source": [
    "#need to convert gross pay object to float if not histogram ugly\n",
    "df_prof_salary['Gross Pay'] = df_prof_salary['Gross Pay'].astype(\"string\")\n",
    "df_prof_salary['Gross Pay'] = df_prof_salary['Gross Pay'].str.replace(\",\",\"\")\n",
    "df_prof_salary['Gross Pay'] = df_prof_salary['Gross Pay'].str[:-3]\n",
    "df_prof_salary['Gross Pay'] = pd.to_numeric(df_prof_salary['Gross Pay'])"
   ]
  },
  {
   "cell_type": "code",
   "execution_count": 33,
   "metadata": {},
   "outputs": [],
   "source": [
    "#need to convert regular pay object to float if not histogram ugly\n",
    "df_prof_salary['Regular Pay'] = df_prof_salary['Regular Pay'].astype(\"string\")\n",
    "df_prof_salary['Regular Pay'] = df_prof_salary['Regular Pay'].str.replace(\",\",\"\")\n",
    "df_prof_salary['Regular Pay'] = df_prof_salary['Regular Pay'].str[:-3]\n",
    "df_prof_salary['Regular Pay'] = pd.to_numeric(df_prof_salary['Regular Pay'])"
   ]
  },
  {
   "cell_type": "code",
   "execution_count": 34,
   "metadata": {},
   "outputs": [
    {
     "data": {
      "text/html": [
       "<div>\n",
       "<style scoped>\n",
       "    .dataframe tbody tr th:only-of-type {\n",
       "        vertical-align: middle;\n",
       "    }\n",
       "\n",
       "    .dataframe tbody tr th {\n",
       "        vertical-align: top;\n",
       "    }\n",
       "\n",
       "    .dataframe thead th {\n",
       "        text-align: right;\n",
       "    }\n",
       "</style>\n",
       "<table border=\"1\" class=\"dataframe\">\n",
       "  <thead>\n",
       "    <tr style=\"text-align: right;\">\n",
       "      <th></th>\n",
       "      <th>recInstr</th>\n",
       "    </tr>\n",
       "    <tr>\n",
       "      <th>instr</th>\n",
       "      <th></th>\n",
       "    </tr>\n",
       "  </thead>\n",
       "  <tbody>\n",
       "    <tr>\n",
       "      <th>Abi Samra, Nicholas Camill</th>\n",
       "      <td>100.0</td>\n",
       "    </tr>\n",
       "    <tr>\n",
       "      <th>Abuelhiga, Soraya Jill</th>\n",
       "      <td>91.0</td>\n",
       "    </tr>\n",
       "    <tr>\n",
       "      <th>Adida, Claire</th>\n",
       "      <td>98.0</td>\n",
       "    </tr>\n",
       "    <tr>\n",
       "      <th>Agarwal, Pooja</th>\n",
       "      <td>21.0</td>\n",
       "    </tr>\n",
       "    <tr>\n",
       "      <th>Ahn, Patricia Jeehyun</th>\n",
       "      <td>100.0</td>\n",
       "    </tr>\n",
       "    <tr>\n",
       "      <th>...</th>\n",
       "      <td>...</td>\n",
       "    </tr>\n",
       "    <tr>\n",
       "      <th>Zucker, Andrew</th>\n",
       "      <td>62.0</td>\n",
       "    </tr>\n",
       "    <tr>\n",
       "      <th>Zuniga, Elina I</th>\n",
       "      <td>91.0</td>\n",
       "    </tr>\n",
       "    <tr>\n",
       "      <th>de Oliveira, Mauricio</th>\n",
       "      <td>37.0</td>\n",
       "    </tr>\n",
       "    <tr>\n",
       "      <th>duBois, Page Ann</th>\n",
       "      <td>98.0</td>\n",
       "    </tr>\n",
       "    <tr>\n",
       "      <th>el Tayeb, Fatima</th>\n",
       "      <td>33.0</td>\n",
       "    </tr>\n",
       "  </tbody>\n",
       "</table>\n",
       "<p>853 rows × 1 columns</p>\n",
       "</div>"
      ],
      "text/plain": [
       "                            recInstr\n",
       "instr                               \n",
       "Abi Samra, Nicholas Camill     100.0\n",
       "Abuelhiga, Soraya Jill          91.0\n",
       "Adida, Claire                   98.0\n",
       "Agarwal, Pooja                  21.0\n",
       "Ahn, Patricia Jeehyun          100.0\n",
       "...                              ...\n",
       "Zucker, Andrew                  62.0\n",
       "Zuniga, Elina I                 91.0\n",
       "de Oliveira, Mauricio           37.0\n",
       "duBois, Page Ann                98.0\n",
       "el Tayeb, Fatima                33.0\n",
       "\n",
       "[853 rows x 1 columns]"
      ]
     },
     "execution_count": 34,
     "metadata": {},
     "output_type": "execute_result"
    }
   ],
   "source": [
    "#get the average rating for each prof, group by should be used, need more thoughts on this not sure how to achieve\n",
    "# maybe df.groupby(\"instr\").mean()   this gets you average rating for each prof\n",
    "\n",
    "df_ratings_mean = df_prof_ratings.groupby(\"instr\").mean() \n",
    "df_ratings_mean = df_ratings_mean.drop(['enrolled', 'evals','recClass','hours'], axis=1)\n",
    "df_ratings_mean.rename(columns={\"recInstr\":\"avgRating\"})\n",
    "df_ratings_mean"
   ]
  },
  {
   "cell_type": "code",
   "execution_count": 35,
   "metadata": {},
   "outputs": [
    {
     "data": {
      "text/html": [
       "<div>\n",
       "<style scoped>\n",
       "    .dataframe tbody tr th:only-of-type {\n",
       "        vertical-align: middle;\n",
       "    }\n",
       "\n",
       "    .dataframe tbody tr th {\n",
       "        vertical-align: top;\n",
       "    }\n",
       "\n",
       "    .dataframe thead th {\n",
       "        text-align: right;\n",
       "    }\n",
       "</style>\n",
       "<table border=\"1\" class=\"dataframe\">\n",
       "  <thead>\n",
       "    <tr style=\"text-align: right;\">\n",
       "      <th></th>\n",
       "      <th>instr</th>\n",
       "      <th>recInstr</th>\n",
       "    </tr>\n",
       "  </thead>\n",
       "  <tbody>\n",
       "    <tr>\n",
       "      <th>0</th>\n",
       "      <td>Abi Samra, Nicholas Camill</td>\n",
       "      <td>100.0</td>\n",
       "    </tr>\n",
       "    <tr>\n",
       "      <th>1</th>\n",
       "      <td>Abuelhiga, Soraya Jill</td>\n",
       "      <td>91.0</td>\n",
       "    </tr>\n",
       "    <tr>\n",
       "      <th>2</th>\n",
       "      <td>Adida, Claire</td>\n",
       "      <td>98.0</td>\n",
       "    </tr>\n",
       "    <tr>\n",
       "      <th>3</th>\n",
       "      <td>Agarwal, Pooja</td>\n",
       "      <td>21.0</td>\n",
       "    </tr>\n",
       "    <tr>\n",
       "      <th>4</th>\n",
       "      <td>Ahn, Patricia Jeehyun</td>\n",
       "      <td>100.0</td>\n",
       "    </tr>\n",
       "    <tr>\n",
       "      <th>...</th>\n",
       "      <td>...</td>\n",
       "      <td>...</td>\n",
       "    </tr>\n",
       "    <tr>\n",
       "      <th>848</th>\n",
       "      <td>Zucker, Andrew</td>\n",
       "      <td>62.0</td>\n",
       "    </tr>\n",
       "    <tr>\n",
       "      <th>849</th>\n",
       "      <td>Zuniga, Elina I</td>\n",
       "      <td>91.0</td>\n",
       "    </tr>\n",
       "    <tr>\n",
       "      <th>850</th>\n",
       "      <td>de Oliveira, Mauricio</td>\n",
       "      <td>37.0</td>\n",
       "    </tr>\n",
       "    <tr>\n",
       "      <th>851</th>\n",
       "      <td>duBois, Page Ann</td>\n",
       "      <td>98.0</td>\n",
       "    </tr>\n",
       "    <tr>\n",
       "      <th>852</th>\n",
       "      <td>el Tayeb, Fatima</td>\n",
       "      <td>33.0</td>\n",
       "    </tr>\n",
       "  </tbody>\n",
       "</table>\n",
       "<p>853 rows × 2 columns</p>\n",
       "</div>"
      ],
      "text/plain": [
       "                          instr  recInstr\n",
       "0    Abi Samra, Nicholas Camill     100.0\n",
       "1        Abuelhiga, Soraya Jill      91.0\n",
       "2                 Adida, Claire      98.0\n",
       "3                Agarwal, Pooja      21.0\n",
       "4         Ahn, Patricia Jeehyun     100.0\n",
       "..                          ...       ...\n",
       "848              Zucker, Andrew      62.0\n",
       "849             Zuniga, Elina I      91.0\n",
       "850       de Oliveira, Mauricio      37.0\n",
       "851            duBois, Page Ann      98.0\n",
       "852            el Tayeb, Fatima      33.0\n",
       "\n",
       "[853 rows x 2 columns]"
      ]
     },
     "execution_count": 35,
     "metadata": {},
     "output_type": "execute_result"
    }
   ],
   "source": [
    "df_ratings_mean = df_ratings_mean.reset_index()\n",
    "df_ratings_mean"
   ]
  },
  {
   "cell_type": "code",
   "execution_count": 36,
   "metadata": {},
   "outputs": [
    {
     "data": {
      "text/html": [
       "<div>\n",
       "<style scoped>\n",
       "    .dataframe tbody tr th:only-of-type {\n",
       "        vertical-align: middle;\n",
       "    }\n",
       "\n",
       "    .dataframe tbody tr th {\n",
       "        vertical-align: top;\n",
       "    }\n",
       "\n",
       "    .dataframe thead th {\n",
       "        text-align: right;\n",
       "    }\n",
       "</style>\n",
       "<table border=\"1\" class=\"dataframe\">\n",
       "  <thead>\n",
       "    <tr style=\"text-align: right;\">\n",
       "      <th></th>\n",
       "      <th>recInstr</th>\n",
       "      <th>First Name</th>\n",
       "      <th>Last Name</th>\n",
       "    </tr>\n",
       "  </thead>\n",
       "  <tbody>\n",
       "    <tr>\n",
       "      <th>0</th>\n",
       "      <td>100.0</td>\n",
       "      <td>NICHOLAS</td>\n",
       "      <td>ABI SAMRA</td>\n",
       "    </tr>\n",
       "    <tr>\n",
       "      <th>1</th>\n",
       "      <td>91.0</td>\n",
       "      <td>SORAYA</td>\n",
       "      <td>ABUELHIGA</td>\n",
       "    </tr>\n",
       "    <tr>\n",
       "      <th>2</th>\n",
       "      <td>98.0</td>\n",
       "      <td>CLAIRE</td>\n",
       "      <td>ADIDA</td>\n",
       "    </tr>\n",
       "    <tr>\n",
       "      <th>3</th>\n",
       "      <td>21.0</td>\n",
       "      <td>POOJA</td>\n",
       "      <td>AGARWAL</td>\n",
       "    </tr>\n",
       "    <tr>\n",
       "      <th>4</th>\n",
       "      <td>100.0</td>\n",
       "      <td>PATRICIA</td>\n",
       "      <td>AHN</td>\n",
       "    </tr>\n",
       "    <tr>\n",
       "      <th>...</th>\n",
       "      <td>...</td>\n",
       "      <td>...</td>\n",
       "      <td>...</td>\n",
       "    </tr>\n",
       "    <tr>\n",
       "      <th>848</th>\n",
       "      <td>62.0</td>\n",
       "      <td>ANDREW</td>\n",
       "      <td>ZUCKER</td>\n",
       "    </tr>\n",
       "    <tr>\n",
       "      <th>849</th>\n",
       "      <td>91.0</td>\n",
       "      <td>ELINA</td>\n",
       "      <td>ZUNIGA</td>\n",
       "    </tr>\n",
       "    <tr>\n",
       "      <th>850</th>\n",
       "      <td>37.0</td>\n",
       "      <td>MAURICIO</td>\n",
       "      <td>DE OLIVEIRA</td>\n",
       "    </tr>\n",
       "    <tr>\n",
       "      <th>851</th>\n",
       "      <td>98.0</td>\n",
       "      <td>PAGE</td>\n",
       "      <td>DUBOIS</td>\n",
       "    </tr>\n",
       "    <tr>\n",
       "      <th>852</th>\n",
       "      <td>33.0</td>\n",
       "      <td>FATIMA</td>\n",
       "      <td>EL TAYEB</td>\n",
       "    </tr>\n",
       "  </tbody>\n",
       "</table>\n",
       "<p>853 rows × 3 columns</p>\n",
       "</div>"
      ],
      "text/plain": [
       "     recInstr First Name    Last Name\n",
       "0       100.0   NICHOLAS    ABI SAMRA\n",
       "1        91.0     SORAYA    ABUELHIGA\n",
       "2        98.0     CLAIRE        ADIDA\n",
       "3        21.0      POOJA      AGARWAL\n",
       "4       100.0   PATRICIA          AHN\n",
       "..        ...        ...          ...\n",
       "848      62.0     ANDREW       ZUCKER\n",
       "849      91.0      ELINA       ZUNIGA\n",
       "850      37.0   MAURICIO  DE OLIVEIRA\n",
       "851      98.0       PAGE       DUBOIS\n",
       "852      33.0     FATIMA     EL TAYEB\n",
       "\n",
       "[853 rows x 3 columns]"
      ]
     },
     "execution_count": 36,
     "metadata": {},
     "output_type": "execute_result"
    }
   ],
   "source": [
    "#need to combine the tables together, find ways to match the names, maybe use for each row and is in to match \n",
    "#last name and first name since the other table has middle names and so on is in \n",
    "\n",
    "#Code for how to get 1 first name and 1 last name: make new variables \n",
    "firstlist = []\n",
    "lastlist = []\n",
    "\n",
    "for name in df_ratings_mean.iloc[:,0]:\n",
    "    chunks_fl = name.split(',') #split the name into first-middle and last\n",
    "    chunks_lm = chunks_fl[0].split(' ') #split the last name\n",
    "    chunks_fm = chunks_fl[1].split(' ') #split the first name \n",
    "\n",
    "    last = chunks_fl[0].upper() #get only one last name\n",
    "    first = chunks_fm[1].upper() #get only one first name\n",
    "    firstlist.append(first)\n",
    "    lastlist.append(last)\n",
    "\n",
    "df_ratings_mean['First Name'] = firstlist\n",
    "df_ratings_mean['Last Name'] = lastlist\n",
    "\n",
    "df_ratings_mean = df_ratings_mean.drop(columns=['instr'])\n",
    "df_ratings_mean"
   ]
  },
  {
   "cell_type": "code",
   "execution_count": 37,
   "metadata": {},
   "outputs": [
    {
     "data": {
      "text/html": [
       "<div>\n",
       "<style scoped>\n",
       "    .dataframe tbody tr th:only-of-type {\n",
       "        vertical-align: middle;\n",
       "    }\n",
       "\n",
       "    .dataframe tbody tr th {\n",
       "        vertical-align: top;\n",
       "    }\n",
       "\n",
       "    .dataframe thead th {\n",
       "        text-align: right;\n",
       "    }\n",
       "</style>\n",
       "<table border=\"1\" class=\"dataframe\">\n",
       "  <thead>\n",
       "    <tr style=\"text-align: right;\">\n",
       "      <th></th>\n",
       "      <th>recInstr</th>\n",
       "      <th>First Name</th>\n",
       "      <th>Last Name</th>\n",
       "      <th>Combined Name</th>\n",
       "    </tr>\n",
       "  </thead>\n",
       "  <tbody>\n",
       "    <tr>\n",
       "      <th>0</th>\n",
       "      <td>100.0</td>\n",
       "      <td>NICHOLAS</td>\n",
       "      <td>ABI SAMRA</td>\n",
       "      <td>NICHOLAS ABI SAMRA</td>\n",
       "    </tr>\n",
       "    <tr>\n",
       "      <th>1</th>\n",
       "      <td>91.0</td>\n",
       "      <td>SORAYA</td>\n",
       "      <td>ABUELHIGA</td>\n",
       "      <td>SORAYA ABUELHIGA</td>\n",
       "    </tr>\n",
       "    <tr>\n",
       "      <th>2</th>\n",
       "      <td>98.0</td>\n",
       "      <td>CLAIRE</td>\n",
       "      <td>ADIDA</td>\n",
       "      <td>CLAIRE ADIDA</td>\n",
       "    </tr>\n",
       "    <tr>\n",
       "      <th>3</th>\n",
       "      <td>21.0</td>\n",
       "      <td>POOJA</td>\n",
       "      <td>AGARWAL</td>\n",
       "      <td>POOJA AGARWAL</td>\n",
       "    </tr>\n",
       "    <tr>\n",
       "      <th>4</th>\n",
       "      <td>100.0</td>\n",
       "      <td>PATRICIA</td>\n",
       "      <td>AHN</td>\n",
       "      <td>PATRICIA AHN</td>\n",
       "    </tr>\n",
       "    <tr>\n",
       "      <th>...</th>\n",
       "      <td>...</td>\n",
       "      <td>...</td>\n",
       "      <td>...</td>\n",
       "      <td>...</td>\n",
       "    </tr>\n",
       "    <tr>\n",
       "      <th>848</th>\n",
       "      <td>62.0</td>\n",
       "      <td>ANDREW</td>\n",
       "      <td>ZUCKER</td>\n",
       "      <td>ANDREW ZUCKER</td>\n",
       "    </tr>\n",
       "    <tr>\n",
       "      <th>849</th>\n",
       "      <td>91.0</td>\n",
       "      <td>ELINA</td>\n",
       "      <td>ZUNIGA</td>\n",
       "      <td>ELINA ZUNIGA</td>\n",
       "    </tr>\n",
       "    <tr>\n",
       "      <th>850</th>\n",
       "      <td>37.0</td>\n",
       "      <td>MAURICIO</td>\n",
       "      <td>DE OLIVEIRA</td>\n",
       "      <td>MAURICIO DE OLIVEIRA</td>\n",
       "    </tr>\n",
       "    <tr>\n",
       "      <th>851</th>\n",
       "      <td>98.0</td>\n",
       "      <td>PAGE</td>\n",
       "      <td>DUBOIS</td>\n",
       "      <td>PAGE DUBOIS</td>\n",
       "    </tr>\n",
       "    <tr>\n",
       "      <th>852</th>\n",
       "      <td>33.0</td>\n",
       "      <td>FATIMA</td>\n",
       "      <td>EL TAYEB</td>\n",
       "      <td>FATIMA EL TAYEB</td>\n",
       "    </tr>\n",
       "  </tbody>\n",
       "</table>\n",
       "<p>853 rows × 4 columns</p>\n",
       "</div>"
      ],
      "text/plain": [
       "     recInstr First Name    Last Name         Combined Name\n",
       "0       100.0   NICHOLAS    ABI SAMRA    NICHOLAS ABI SAMRA\n",
       "1        91.0     SORAYA    ABUELHIGA      SORAYA ABUELHIGA\n",
       "2        98.0     CLAIRE        ADIDA          CLAIRE ADIDA\n",
       "3        21.0      POOJA      AGARWAL         POOJA AGARWAL\n",
       "4       100.0   PATRICIA          AHN          PATRICIA AHN\n",
       "..        ...        ...          ...                   ...\n",
       "848      62.0     ANDREW       ZUCKER         ANDREW ZUCKER\n",
       "849      91.0      ELINA       ZUNIGA          ELINA ZUNIGA\n",
       "850      37.0   MAURICIO  DE OLIVEIRA  MAURICIO DE OLIVEIRA\n",
       "851      98.0       PAGE       DUBOIS           PAGE DUBOIS\n",
       "852      33.0     FATIMA     EL TAYEB       FATIMA EL TAYEB\n",
       "\n",
       "[853 rows x 4 columns]"
      ]
     },
     "execution_count": 37,
     "metadata": {},
     "output_type": "execute_result"
    }
   ],
   "source": [
    "df_ratings_mean['Combined Name']= df_ratings_mean['First Name'] + ' ' + df_ratings_mean['Last Name']\n",
    "df_ratings_mean"
   ]
  },
  {
   "cell_type": "code",
   "execution_count": 38,
   "metadata": {
    "scrolled": false
   },
   "outputs": [
    {
     "data": {
      "text/html": [
       "<div>\n",
       "<style scoped>\n",
       "    .dataframe tbody tr th:only-of-type {\n",
       "        vertical-align: middle;\n",
       "    }\n",
       "\n",
       "    .dataframe tbody tr th {\n",
       "        vertical-align: top;\n",
       "    }\n",
       "\n",
       "    .dataframe thead th {\n",
       "        text-align: right;\n",
       "    }\n",
       "</style>\n",
       "<table border=\"1\" class=\"dataframe\">\n",
       "  <thead>\n",
       "    <tr style=\"text-align: right;\">\n",
       "      <th></th>\n",
       "      <th>Combined Name</th>\n",
       "      <th>Title</th>\n",
       "      <th>Gross Pay</th>\n",
       "      <th>Regular Pay</th>\n",
       "      <th>recInstr</th>\n",
       "    </tr>\n",
       "  </thead>\n",
       "  <tbody>\n",
       "    <tr>\n",
       "      <th>0</th>\n",
       "      <td>AARON COLEMAN</td>\n",
       "      <td>SR LECT SOE-AY</td>\n",
       "      <td>98300</td>\n",
       "      <td>98300</td>\n",
       "      <td>100.0</td>\n",
       "    </tr>\n",
       "    <tr>\n",
       "      <th>1</th>\n",
       "      <td>AARON DREWS</td>\n",
       "      <td>LECT PSOE-AY-B/E/E</td>\n",
       "      <td>122517</td>\n",
       "      <td>117517</td>\n",
       "      <td>100.0</td>\n",
       "    </tr>\n",
       "    <tr>\n",
       "      <th>2</th>\n",
       "      <td>AARON FRAENKEL</td>\n",
       "      <td>LECT PSOE-AY-B/E/E</td>\n",
       "      <td>172267</td>\n",
       "      <td>129200</td>\n",
       "      <td>90.0</td>\n",
       "    </tr>\n",
       "    <tr>\n",
       "      <th>3</th>\n",
       "      <td>AARON POLLACK</td>\n",
       "      <td>ASST PROF-AY</td>\n",
       "      <td>63333</td>\n",
       "      <td>50000</td>\n",
       "      <td>75.0</td>\n",
       "    </tr>\n",
       "    <tr>\n",
       "      <th>4</th>\n",
       "      <td>ABHISHEK SAHA</td>\n",
       "      <td>ASST PROF-AY-B/E/E</td>\n",
       "      <td>113517</td>\n",
       "      <td>113517</td>\n",
       "      <td>67.0</td>\n",
       "    </tr>\n",
       "    <tr>\n",
       "      <th>...</th>\n",
       "      <td>...</td>\n",
       "      <td>...</td>\n",
       "      <td>...</td>\n",
       "      <td>...</td>\n",
       "      <td>...</td>\n",
       "    </tr>\n",
       "    <tr>\n",
       "      <th>733</th>\n",
       "      <td>ZEINABU DAVIS</td>\n",
       "      <td>PROF-AY</td>\n",
       "      <td>145700</td>\n",
       "      <td>145700</td>\n",
       "      <td>100.0</td>\n",
       "    </tr>\n",
       "    <tr>\n",
       "      <th>734</th>\n",
       "      <td>ZHAOWEI LIU</td>\n",
       "      <td>PROF-AY-B/E/E</td>\n",
       "      <td>244466</td>\n",
       "      <td>144604</td>\n",
       "      <td>80.0</td>\n",
       "    </tr>\n",
       "    <tr>\n",
       "      <th>735</th>\n",
       "      <td>ZHENG CHEN</td>\n",
       "      <td>ASST PROF-AY-B/E/E</td>\n",
       "      <td>132265</td>\n",
       "      <td>112725</td>\n",
       "      <td>70.0</td>\n",
       "    </tr>\n",
       "    <tr>\n",
       "      <th>736</th>\n",
       "      <td>ZHOULI XU</td>\n",
       "      <td>ASST PROF-AY</td>\n",
       "      <td>66950</td>\n",
       "      <td>42917</td>\n",
       "      <td>86.0</td>\n",
       "    </tr>\n",
       "    <tr>\n",
       "      <th>737</th>\n",
       "      <td>ZHUOWEN TU</td>\n",
       "      <td>PROF-AY</td>\n",
       "      <td>131800</td>\n",
       "      <td>131800</td>\n",
       "      <td>100.0</td>\n",
       "    </tr>\n",
       "  </tbody>\n",
       "</table>\n",
       "<p>738 rows × 5 columns</p>\n",
       "</div>"
      ],
      "text/plain": [
       "      Combined Name               Title  Gross Pay  Regular Pay  recInstr\n",
       "0     AARON COLEMAN      SR LECT SOE-AY      98300        98300     100.0\n",
       "1       AARON DREWS  LECT PSOE-AY-B/E/E     122517       117517     100.0\n",
       "2    AARON FRAENKEL  LECT PSOE-AY-B/E/E     172267       129200      90.0\n",
       "3     AARON POLLACK        ASST PROF-AY      63333        50000      75.0\n",
       "4     ABHISHEK SAHA  ASST PROF-AY-B/E/E     113517       113517      67.0\n",
       "..              ...                 ...        ...          ...       ...\n",
       "733   ZEINABU DAVIS             PROF-AY     145700       145700     100.0\n",
       "734     ZHAOWEI LIU       PROF-AY-B/E/E     244466       144604      80.0\n",
       "735      ZHENG CHEN  ASST PROF-AY-B/E/E     132265       112725      70.0\n",
       "736       ZHOULI XU        ASST PROF-AY      66950        42917      86.0\n",
       "737      ZHUOWEN TU             PROF-AY     131800       131800     100.0\n",
       "\n",
       "[738 rows x 5 columns]"
      ]
     },
     "execution_count": 38,
     "metadata": {},
     "output_type": "execute_result"
    }
   ],
   "source": [
    "#join the two table together\n",
    "df_comb = df_prof_salary.set_index('Combined Name').join(df_ratings_mean.set_index('Combined Name'), lsuffix='_salary', rsuffix='_mean')\n",
    "#do after mary has cleaned up the original df_prof_salary table\n",
    "df_comb.drop(columns=['First Name', 'Last Name']).reset_index()"
   ]
  },
  {
   "cell_type": "markdown",
   "metadata": {},
   "source": [
    "Below is a list containing all the codes which are tenured positions in the University of California system. We will use these codes to assign tenure status to each professor in the merged dataframe."
   ]
  },
  {
   "cell_type": "code",
   "execution_count": 39,
   "metadata": {},
   "outputs": [
    {
     "data": {
      "text/html": [
       "<div>\n",
       "<style scoped>\n",
       "    .dataframe tbody tr th:only-of-type {\n",
       "        vertical-align: middle;\n",
       "    }\n",
       "\n",
       "    .dataframe tbody tr th {\n",
       "        vertical-align: top;\n",
       "    }\n",
       "\n",
       "    .dataframe thead th {\n",
       "        text-align: right;\n",
       "    }\n",
       "</style>\n",
       "<table border=\"1\" class=\"dataframe\">\n",
       "  <thead>\n",
       "    <tr style=\"text-align: right;\">\n",
       "      <th></th>\n",
       "      <th>Title</th>\n",
       "      <th>GrossPay</th>\n",
       "      <th>RegularPay</th>\n",
       "      <th>recInstr</th>\n",
       "      <th>First Name</th>\n",
       "      <th>Last Name</th>\n",
       "      <th>tenured</th>\n",
       "    </tr>\n",
       "    <tr>\n",
       "      <th>Combined Name</th>\n",
       "      <th></th>\n",
       "      <th></th>\n",
       "      <th></th>\n",
       "      <th></th>\n",
       "      <th></th>\n",
       "      <th></th>\n",
       "      <th></th>\n",
       "    </tr>\n",
       "  </thead>\n",
       "  <tbody>\n",
       "    <tr>\n",
       "      <th>AARON COLEMAN</th>\n",
       "      <td>SR LECT SOE-AY</td>\n",
       "      <td>98300</td>\n",
       "      <td>98300</td>\n",
       "      <td>100.0</td>\n",
       "      <td>AARON</td>\n",
       "      <td>COLEMAN</td>\n",
       "      <td>False</td>\n",
       "    </tr>\n",
       "    <tr>\n",
       "      <th>AARON DREWS</th>\n",
       "      <td>LECT PSOE-AY-B/E/E</td>\n",
       "      <td>122517</td>\n",
       "      <td>117517</td>\n",
       "      <td>100.0</td>\n",
       "      <td>AARON</td>\n",
       "      <td>DREWS</td>\n",
       "      <td>False</td>\n",
       "    </tr>\n",
       "    <tr>\n",
       "      <th>AARON FRAENKEL</th>\n",
       "      <td>LECT PSOE-AY-B/E/E</td>\n",
       "      <td>172267</td>\n",
       "      <td>129200</td>\n",
       "      <td>90.0</td>\n",
       "      <td>AARON</td>\n",
       "      <td>FRAENKEL</td>\n",
       "      <td>False</td>\n",
       "    </tr>\n",
       "    <tr>\n",
       "      <th>AARON POLLACK</th>\n",
       "      <td>ASST PROF-AY</td>\n",
       "      <td>63333</td>\n",
       "      <td>50000</td>\n",
       "      <td>75.0</td>\n",
       "      <td>AARON</td>\n",
       "      <td>POLLACK</td>\n",
       "      <td>False</td>\n",
       "    </tr>\n",
       "    <tr>\n",
       "      <th>ABHISHEK SAHA</th>\n",
       "      <td>ASST PROF-AY-B/E/E</td>\n",
       "      <td>113517</td>\n",
       "      <td>113517</td>\n",
       "      <td>67.0</td>\n",
       "      <td>ABHISHEK</td>\n",
       "      <td>SAHA</td>\n",
       "      <td>False</td>\n",
       "    </tr>\n",
       "    <tr>\n",
       "      <th>...</th>\n",
       "      <td>...</td>\n",
       "      <td>...</td>\n",
       "      <td>...</td>\n",
       "      <td>...</td>\n",
       "      <td>...</td>\n",
       "      <td>...</td>\n",
       "      <td>...</td>\n",
       "    </tr>\n",
       "    <tr>\n",
       "      <th>ZEINABU DAVIS</th>\n",
       "      <td>PROF-AY</td>\n",
       "      <td>145700</td>\n",
       "      <td>145700</td>\n",
       "      <td>100.0</td>\n",
       "      <td>ZEINABU</td>\n",
       "      <td>DAVIS</td>\n",
       "      <td>True</td>\n",
       "    </tr>\n",
       "    <tr>\n",
       "      <th>ZHAOWEI LIU</th>\n",
       "      <td>PROF-AY-B/E/E</td>\n",
       "      <td>244466</td>\n",
       "      <td>144604</td>\n",
       "      <td>80.0</td>\n",
       "      <td>ZHAOWEI</td>\n",
       "      <td>LIU</td>\n",
       "      <td>True</td>\n",
       "    </tr>\n",
       "    <tr>\n",
       "      <th>ZHENG CHEN</th>\n",
       "      <td>ASST PROF-AY-B/E/E</td>\n",
       "      <td>132265</td>\n",
       "      <td>112725</td>\n",
       "      <td>70.0</td>\n",
       "      <td>ZHENG</td>\n",
       "      <td>CHEN</td>\n",
       "      <td>False</td>\n",
       "    </tr>\n",
       "    <tr>\n",
       "      <th>ZHOULI XU</th>\n",
       "      <td>ASST PROF-AY</td>\n",
       "      <td>66950</td>\n",
       "      <td>42917</td>\n",
       "      <td>86.0</td>\n",
       "      <td>ZHOULI</td>\n",
       "      <td>XU</td>\n",
       "      <td>False</td>\n",
       "    </tr>\n",
       "    <tr>\n",
       "      <th>ZHUOWEN TU</th>\n",
       "      <td>PROF-AY</td>\n",
       "      <td>131800</td>\n",
       "      <td>131800</td>\n",
       "      <td>100.0</td>\n",
       "      <td>ZHUOWEN</td>\n",
       "      <td>TU</td>\n",
       "      <td>True</td>\n",
       "    </tr>\n",
       "  </tbody>\n",
       "</table>\n",
       "<p>738 rows × 7 columns</p>\n",
       "</div>"
      ],
      "text/plain": [
       "                             Title  GrossPay  RegularPay  recInstr First Name  \\\n",
       "Combined Name                                                                   \n",
       "AARON COLEMAN       SR LECT SOE-AY     98300       98300     100.0      AARON   \n",
       "AARON DREWS     LECT PSOE-AY-B/E/E    122517      117517     100.0      AARON   \n",
       "AARON FRAENKEL  LECT PSOE-AY-B/E/E    172267      129200      90.0      AARON   \n",
       "AARON POLLACK         ASST PROF-AY     63333       50000      75.0      AARON   \n",
       "ABHISHEK SAHA   ASST PROF-AY-B/E/E    113517      113517      67.0   ABHISHEK   \n",
       "...                            ...       ...         ...       ...        ...   \n",
       "ZEINABU DAVIS              PROF-AY    145700      145700     100.0    ZEINABU   \n",
       "ZHAOWEI LIU          PROF-AY-B/E/E    244466      144604      80.0    ZHAOWEI   \n",
       "ZHENG CHEN      ASST PROF-AY-B/E/E    132265      112725      70.0      ZHENG   \n",
       "ZHOULI XU             ASST PROF-AY     66950       42917      86.0     ZHOULI   \n",
       "ZHUOWEN TU                 PROF-AY    131800      131800     100.0    ZHUOWEN   \n",
       "\n",
       "               Last Name  tenured  \n",
       "Combined Name                      \n",
       "AARON COLEMAN    COLEMAN    False  \n",
       "AARON DREWS        DREWS    False  \n",
       "AARON FRAENKEL  FRAENKEL    False  \n",
       "AARON POLLACK    POLLACK    False  \n",
       "ABHISHEK SAHA       SAHA    False  \n",
       "...                  ...      ...  \n",
       "ZEINABU DAVIS      DAVIS     True  \n",
       "ZHAOWEI LIU          LIU     True  \n",
       "ZHENG CHEN          CHEN    False  \n",
       "ZHOULI XU             XU    False  \n",
       "ZHUOWEN TU            TU     True  \n",
       "\n",
       "[738 rows x 7 columns]"
      ]
     },
     "execution_count": 39,
     "metadata": {},
     "output_type": "execute_result"
    }
   ],
   "source": [
    "\n",
    "tenure_list = ['PROF-AY-1/9', 'PROF-AY', 'UNIV PROF', 'PROF-FY', 'PROF-AY-B/E/E', 'PROF-FY-B/E/E', 'PROF-AY-1/9-B/E/E', \n",
    "               'PROF-AY-LAW', 'PROF-AY-1/9-LAW', 'ASSOC PROF-AY', 'ASSOC PROF-AY-1/9', 'ASSOC PROF-FY', \n",
    "               'ASSOC PROF-AY-B/E/E', 'ASSOC PROF-FY-B/E/E', 'ASSOC PROF-AY-1/9-B/E/E', 'ASSOC PROF-HCOMP', \n",
    "               'ASSOC PROF-SFT-VM', 'PROF-SFT-VM']\n",
    "df_comb[\"tenured\"] =  df_comb['Title'].isin(tenure_list)\n",
    "df_comb = df_comb.rename(columns={'Gross Pay':'GrossPay'})\n",
    "df_comb = df_comb.rename(columns={'Regular Pay':'RegularPay'})\n",
    "df_comb"
   ]
  },
  {
   "cell_type": "markdown",
   "metadata": {},
   "source": [
    "We now look professors who earn more than 450000 within the time period."
   ]
  },
  {
   "cell_type": "code",
   "execution_count": 40,
   "metadata": {},
   "outputs": [
    {
     "data": {
      "text/html": [
       "<div>\n",
       "<style scoped>\n",
       "    .dataframe tbody tr th:only-of-type {\n",
       "        vertical-align: middle;\n",
       "    }\n",
       "\n",
       "    .dataframe tbody tr th {\n",
       "        vertical-align: top;\n",
       "    }\n",
       "\n",
       "    .dataframe thead th {\n",
       "        text-align: right;\n",
       "    }\n",
       "</style>\n",
       "<table border=\"1\" class=\"dataframe\">\n",
       "  <thead>\n",
       "    <tr style=\"text-align: right;\">\n",
       "      <th></th>\n",
       "      <th>Title</th>\n",
       "      <th>GrossPay</th>\n",
       "      <th>RegularPay</th>\n",
       "      <th>recInstr</th>\n",
       "      <th>First Name</th>\n",
       "      <th>Last Name</th>\n",
       "      <th>tenured</th>\n",
       "    </tr>\n",
       "    <tr>\n",
       "      <th>Combined Name</th>\n",
       "      <th></th>\n",
       "      <th></th>\n",
       "      <th></th>\n",
       "      <th></th>\n",
       "      <th></th>\n",
       "      <th></th>\n",
       "      <th></th>\n",
       "    </tr>\n",
       "  </thead>\n",
       "  <tbody>\n",
       "    <tr>\n",
       "      <th>GABRIEL REBEIZ</th>\n",
       "      <td>PROF-AY-B/E/E</td>\n",
       "      <td>530309</td>\n",
       "      <td>312916</td>\n",
       "      <td>92.5</td>\n",
       "      <td>GABRIEL</td>\n",
       "      <td>REBEIZ</td>\n",
       "      <td>True</td>\n",
       "    </tr>\n",
       "    <tr>\n",
       "      <th>JAMES FOWLER</th>\n",
       "      <td>PROF-HCOMP</td>\n",
       "      <td>518448</td>\n",
       "      <td>408448</td>\n",
       "      <td>81.0</td>\n",
       "      <td>JAMES</td>\n",
       "      <td>FOWLER</td>\n",
       "      <td>False</td>\n",
       "    </tr>\n",
       "    <tr>\n",
       "      <th>WALTER KAYE</th>\n",
       "      <td>PROF-HCOMP</td>\n",
       "      <td>469667</td>\n",
       "      <td>330600</td>\n",
       "      <td>85.0</td>\n",
       "      <td>WALTER</td>\n",
       "      <td>KAYE</td>\n",
       "      <td>False</td>\n",
       "    </tr>\n",
       "  </tbody>\n",
       "</table>\n",
       "</div>"
      ],
      "text/plain": [
       "                        Title  GrossPay  RegularPay  recInstr First Name  \\\n",
       "Combined Name                                                              \n",
       "GABRIEL REBEIZ  PROF-AY-B/E/E    530309      312916      92.5    GABRIEL   \n",
       "JAMES FOWLER       PROF-HCOMP    518448      408448      81.0      JAMES   \n",
       "WALTER KAYE        PROF-HCOMP    469667      330600      85.0     WALTER   \n",
       "\n",
       "               Last Name  tenured  \n",
       "Combined Name                      \n",
       "GABRIEL REBEIZ    REBEIZ     True  \n",
       "JAMES FOWLER      FOWLER    False  \n",
       "WALTER KAYE         KAYE    False  "
      ]
     },
     "execution_count": 40,
     "metadata": {},
     "output_type": "execute_result"
    }
   ],
   "source": [
    "df_comb[df_comb['GrossPay'] > 450000]"
   ]
  },
  {
   "cell_type": "markdown",
   "metadata": {},
   "source": [
    "Now to drop unnecessary columns:"
   ]
  },
  {
   "cell_type": "code",
   "execution_count": 41,
   "metadata": {},
   "outputs": [
    {
     "data": {
      "text/html": [
       "<div>\n",
       "<style scoped>\n",
       "    .dataframe tbody tr th:only-of-type {\n",
       "        vertical-align: middle;\n",
       "    }\n",
       "\n",
       "    .dataframe tbody tr th {\n",
       "        vertical-align: top;\n",
       "    }\n",
       "\n",
       "    .dataframe thead th {\n",
       "        text-align: right;\n",
       "    }\n",
       "</style>\n",
       "<table border=\"1\" class=\"dataframe\">\n",
       "  <thead>\n",
       "    <tr style=\"text-align: right;\">\n",
       "      <th></th>\n",
       "      <th>GrossPay</th>\n",
       "      <th>RegularPay</th>\n",
       "      <th>recInstr</th>\n",
       "      <th>tenured</th>\n",
       "    </tr>\n",
       "  </thead>\n",
       "  <tbody>\n",
       "    <tr>\n",
       "      <th>0</th>\n",
       "      <td>98300</td>\n",
       "      <td>98300</td>\n",
       "      <td>100.0</td>\n",
       "      <td>False</td>\n",
       "    </tr>\n",
       "    <tr>\n",
       "      <th>1</th>\n",
       "      <td>122517</td>\n",
       "      <td>117517</td>\n",
       "      <td>100.0</td>\n",
       "      <td>False</td>\n",
       "    </tr>\n",
       "    <tr>\n",
       "      <th>2</th>\n",
       "      <td>172267</td>\n",
       "      <td>129200</td>\n",
       "      <td>90.0</td>\n",
       "      <td>False</td>\n",
       "    </tr>\n",
       "    <tr>\n",
       "      <th>3</th>\n",
       "      <td>63333</td>\n",
       "      <td>50000</td>\n",
       "      <td>75.0</td>\n",
       "      <td>False</td>\n",
       "    </tr>\n",
       "    <tr>\n",
       "      <th>4</th>\n",
       "      <td>113517</td>\n",
       "      <td>113517</td>\n",
       "      <td>67.0</td>\n",
       "      <td>False</td>\n",
       "    </tr>\n",
       "    <tr>\n",
       "      <th>...</th>\n",
       "      <td>...</td>\n",
       "      <td>...</td>\n",
       "      <td>...</td>\n",
       "      <td>...</td>\n",
       "    </tr>\n",
       "    <tr>\n",
       "      <th>733</th>\n",
       "      <td>145700</td>\n",
       "      <td>145700</td>\n",
       "      <td>100.0</td>\n",
       "      <td>True</td>\n",
       "    </tr>\n",
       "    <tr>\n",
       "      <th>734</th>\n",
       "      <td>244466</td>\n",
       "      <td>144604</td>\n",
       "      <td>80.0</td>\n",
       "      <td>True</td>\n",
       "    </tr>\n",
       "    <tr>\n",
       "      <th>735</th>\n",
       "      <td>132265</td>\n",
       "      <td>112725</td>\n",
       "      <td>70.0</td>\n",
       "      <td>False</td>\n",
       "    </tr>\n",
       "    <tr>\n",
       "      <th>736</th>\n",
       "      <td>66950</td>\n",
       "      <td>42917</td>\n",
       "      <td>86.0</td>\n",
       "      <td>False</td>\n",
       "    </tr>\n",
       "    <tr>\n",
       "      <th>737</th>\n",
       "      <td>131800</td>\n",
       "      <td>131800</td>\n",
       "      <td>100.0</td>\n",
       "      <td>True</td>\n",
       "    </tr>\n",
       "  </tbody>\n",
       "</table>\n",
       "<p>738 rows × 4 columns</p>\n",
       "</div>"
      ],
      "text/plain": [
       "     GrossPay  RegularPay  recInstr  tenured\n",
       "0       98300       98300     100.0    False\n",
       "1      122517      117517     100.0    False\n",
       "2      172267      129200      90.0    False\n",
       "3       63333       50000      75.0    False\n",
       "4      113517      113517      67.0    False\n",
       "..        ...         ...       ...      ...\n",
       "733    145700      145700     100.0     True\n",
       "734    244466      144604      80.0     True\n",
       "735    132265      112725      70.0    False\n",
       "736     66950       42917      86.0    False\n",
       "737    131800      131800     100.0     True\n",
       "\n",
       "[738 rows x 4 columns]"
      ]
     },
     "execution_count": 41,
     "metadata": {},
     "output_type": "execute_result"
    }
   ],
   "source": [
    "df_comb  = df_comb.drop(columns=['Title', 'First Name', 'Last Name']).reset_index()\n",
    "df_comb = df_comb.drop(columns=['Combined Name'])\n",
    "\n",
    "df_comb"
   ]
  },
  {
   "cell_type": "markdown",
   "metadata": {},
   "source": [
    "# Data Analysis & Results (EDA)"
   ]
  },
  {
   "cell_type": "code",
   "execution_count": 42,
   "metadata": {},
   "outputs": [],
   "source": [
    "%matplotlib inline\n",
    "\n",
    "import numpy as np\n",
    "import pandas as pd\n",
    "import matplotlib.pyplot as plt\n",
    "from matplotlib import rcParams\n",
    "\n",
    "import seaborn as sns\n",
    "sns.set()\n",
    "sns.set_context('talk')\n",
    "\n",
    "import warnings\n",
    "warnings.filterwarnings('ignore')\n",
    "\n",
    "import patsy\n",
    "import statsmodels.api as sm\n",
    "import scipy.stats as stats\n",
    "from scipy.stats import ttest_ind, chisquare, normaltest"
   ]
  },
  {
   "cell_type": "markdown",
   "metadata": {},
   "source": [
    "We want to take a look at the the distribution for recInstr(instructor rating)."
   ]
  },
  {
   "cell_type": "code",
   "execution_count": 43,
   "metadata": {},
   "outputs": [
    {
     "data": {
      "text/plain": [
       "count    725.000000\n",
       "mean      91.587591\n",
       "std       12.455718\n",
       "min        0.000000\n",
       "25%       89.000000\n",
       "50%       96.000000\n",
       "75%      100.000000\n",
       "max      100.000000\n",
       "Name: recInstr, dtype: float64"
      ]
     },
     "execution_count": 43,
     "metadata": {},
     "output_type": "execute_result"
    }
   ],
   "source": [
    "df_comb['recInstr'].describe()"
   ]
  },
  {
   "cell_type": "code",
   "execution_count": 44,
   "metadata": {},
   "outputs": [
    {
     "data": {
      "text/plain": [
       "[Text(0.5, 0, 'Professor Rating')]"
      ]
     },
     "execution_count": 44,
     "metadata": {},
     "output_type": "execute_result"
    },
    {
     "data": {
      "image/png": "[encoded data removed]",
      "text/plain": [
       "<Figure size 432x288 with 1 Axes>"
      ]
     },
     "metadata": {},
     "output_type": "display_data"
    }
   ],
   "source": [
    "#histogram of rec Instructor\n",
    "ax = sns.histplot(df_comb['recInstr'], bins = 30, color ='r')\n",
    "\n",
    "ax.set(xlabel=\"Professor Rating\")"
   ]
  },
  {
   "cell_type": "markdown",
   "metadata": {},
   "source": [
    "The histogram has a left skewed distribution, meaning there are more values that are larger."
   ]
  },
  {
   "cell_type": "markdown",
   "metadata": {},
   "source": [
    "Now let us take a look at distribution for GrossPay"
   ]
  },
  {
   "cell_type": "code",
   "execution_count": 45,
   "metadata": {},
   "outputs": [
    {
     "data": {
      "text/plain": [
       "count       738.000000\n",
       "mean     131692.802168\n",
       "std       82810.228622\n",
       "min        4135.000000\n",
       "25%       67048.500000\n",
       "50%      122733.500000\n",
       "75%      179912.250000\n",
       "max      530309.000000\n",
       "Name: GrossPay, dtype: float64"
      ]
     },
     "execution_count": 45,
     "metadata": {},
     "output_type": "execute_result"
    }
   ],
   "source": [
    "df_comb['GrossPay'].describe()"
   ]
  },
  {
   "cell_type": "code",
   "execution_count": 46,
   "metadata": {},
   "outputs": [
    {
     "data": {
      "image/png": "[encoded data removed]",
      "text/plain": [
       "<Figure size 432x288 with 1 Axes>"
      ]
     },
     "metadata": {},
     "output_type": "display_data"
    }
   ],
   "source": [
    "ax = sns.histplot(df_comb['GrossPay'], bins = 30, color ='g')\n",
    "\n",
    "ax.set(xlabel=\"Gross Pay\")\n",
    "\n",
    "f2 = plt.gcf()"
   ]
  },
  {
   "cell_type": "markdown",
   "metadata": {},
   "source": [
    "As shown on the histogram above, there is a few outlier near 500000, these outliers might skew the correlation and p value of the regression, thus we need to get rid of that outlier. Given that only 3 value appears to be within that grosspay bracket, we can logically conclude that the outliers are not representative of the population, and are most likely due to external factors like rare award grants. To get rid of it, we use the quantile function to get rid of the gross pay rows where gross pay value is outside of the 99 percent quantile. After that, we replotted the histogram to make sure the outlier is removed."
   ]
  },
  {
   "cell_type": "code",
   "execution_count": 47,
   "metadata": {},
   "outputs": [],
   "source": [
    "q = df_comb[\"GrossPay\"].quantile(0.99)\n",
    "df_comb = df_comb[df_comb[\"GrossPay\"] < q]"
   ]
  },
  {
   "cell_type": "code",
   "execution_count": 48,
   "metadata": {},
   "outputs": [],
   "source": [
    "sns.set(rc = {'figure.figsize':(15,6)})"
   ]
  },
  {
   "cell_type": "code",
   "execution_count": 49,
   "metadata": {},
   "outputs": [
    {
     "data": {
      "image/png": "[encoded data removed]",
      "text/plain": [
       "<Figure size 1080x432 with 2 Axes>"
      ]
     },
     "metadata": {},
     "output_type": "display_data"
    }
   ],
   "source": [
    "fig_dims = (40, 10)\n",
    "fig, ax = plt.subplots(1,2)\n",
    "\n",
    "reg_sns = sns.histplot(df_comb['GrossPay'], bins = 30, color ='g', ax=ax[0])\n",
    "gro_sns = sns.histplot(df_comb['RegularPay'], bins = 30, color ='purple', ax=ax[1])\n",
    "\n",
    "reg_sns.set_ylim(0,65)\n",
    "gro_sns.set_ylim(0,65)\n",
    "\n",
    "reg_sns.set(xlabel=\"Gross Pay\")\n",
    "gro_sns.set(xlabel=\"Regular Pay\")\n",
    "\n",
    "f2 = plt.gcf()"
   ]
  },
  {
   "cell_type": "markdown",
   "metadata": {},
   "source": [
    "The Gross Pay histogram has a right skewed distribution, meaning there are more smaller values then the larger values.\n",
    "\n",
    "The Regular Pay histogram has a right skewed distribution, meaning there are more smaller values then the larger values. It also shows that there are no outliers, since data are contained in a reasonable range. "
   ]
  },
  {
   "cell_type": "markdown",
   "metadata": {},
   "source": [
    "We felt that by simply looking at the gross pay data, it does not accurately represent what we meant in professor pay. Rather, we felt that regular base pay salary for professor teaching and research would be a better reflection of what we initially meant in our hypothesis. So Now we look at distribution of regular pay."
   ]
  },
  {
   "cell_type": "code",
   "execution_count": 50,
   "metadata": {},
   "outputs": [
    {
     "data": {
      "text/plain": [
       "count       730.000000\n",
       "mean     108540.652055\n",
       "std       62013.030349\n",
       "min        4135.000000\n",
       "25%       59764.000000\n",
       "50%      105591.500000\n",
       "75%      142455.500000\n",
       "max      331800.000000\n",
       "Name: RegularPay, dtype: float64"
      ]
     },
     "execution_count": 50,
     "metadata": {},
     "output_type": "execute_result"
    }
   ],
   "source": [
    "df_comb['RegularPay'].describe()"
   ]
  },
  {
   "cell_type": "code",
   "execution_count": 51,
   "metadata": {},
   "outputs": [
    {
     "data": {
      "text/plain": [
       "[Text(0.5, 0, 'Regular Pay')]"
      ]
     },
     "execution_count": 51,
     "metadata": {},
     "output_type": "execute_result"
    },
    {
     "data": {
      "image/png": "[encoded data removed]",
      "text/plain": [
       "<Figure size 1080x432 with 2 Axes>"
      ]
     },
     "metadata": {},
     "output_type": "display_data"
    }
   ],
   "source": [
    "fig, ax = plt.subplots(1,2)\n",
    "\n",
    "reg_sns = sns.histplot(df_comb, x=\"RegularPay\", hue=\"tenured\", bins=20, ax=ax[0])\n",
    "gro_sns = sns.histplot(df_comb, x=\"GrossPay\", hue=\"tenured\", bins=20, ax=ax[1])\n",
    "\n",
    "reg_sns.set_ylim(0,70)\n",
    "gro_sns.set_ylim(0,70)\n",
    "\n",
    "reg_sns.set(xlabel=\"Gross Pay\")\n",
    "gro_sns.set(xlabel=\"Regular Pay\")"
   ]
  },
  {
   "cell_type": "code",
   "execution_count": 52,
   "metadata": {},
   "outputs": [],
   "source": [
    "sns.set(rc = {'figure.figsize':(7, 4)})"
   ]
  },
  {
   "cell_type": "code",
   "execution_count": 53,
   "metadata": {},
   "outputs": [
    {
     "data": {
      "text/plain": [
       "[Text(0.5, 0, 'Tenured')]"
      ]
     },
     "execution_count": 53,
     "metadata": {},
     "output_type": "execute_result"
    },
    {
     "data": {
      "image/png": "[encoded data removed]",
      "text/plain": [
       "<Figure size 504x288 with 1 Axes>"
      ]
     },
     "metadata": {},
     "output_type": "display_data"
    }
   ],
   "source": [
    "ax = sns.countplot(x='tenured', data=df_comb)\n",
    "ax.set(xlabel=\"Tenured\")"
   ]
  },
  {
   "cell_type": "markdown",
   "metadata": {},
   "source": [
    "The following box plot compares professor ratings according to their tenure status."
   ]
  },
  {
   "cell_type": "code",
   "execution_count": 54,
   "metadata": {},
   "outputs": [
    {
     "data": {
      "text/plain": [
       "[Text(0.5, 0, 'Tenured')]"
      ]
     },
     "execution_count": 54,
     "metadata": {},
     "output_type": "execute_result"
    },
    {
     "data": {
      "image/png": "[encoded data removed]",
      "text/plain": [
       "<Figure size 504x288 with 1 Axes>"
      ]
     },
     "metadata": {},
     "output_type": "display_data"
    }
   ],
   "source": [
    "ax = sns.boxplot(data=df_comb, x=\"tenured\", y=\"recInstr\")\n",
    "ax.set(xlabel=\"Tenured\")"
   ]
  },
  {
   "cell_type": "markdown",
   "metadata": {},
   "source": [
    "The following box plot compares the regular pay of professsors according to their tenure status."
   ]
  },
  {
   "cell_type": "code",
   "execution_count": 55,
   "metadata": {},
   "outputs": [
    {
     "data": {
      "text/plain": [
       "[Text(0.5, 0, 'Tenured')]"
      ]
     },
     "execution_count": 55,
     "metadata": {},
     "output_type": "execute_result"
    },
    {
     "data": {
      "image/png": "[encoded data removed]",
      "text/plain": [
       "<Figure size 504x288 with 1 Axes>"
      ]
     },
     "metadata": {},
     "output_type": "display_data"
    }
   ],
   "source": [
    "ax = sns.boxplot(data=df_comb, x=\"tenured\", y=\"RegularPay\")\n",
    "ax.set(xlabel=\"Tenured\")"
   ]
  },
  {
   "cell_type": "markdown",
   "metadata": {},
   "source": [
    "Now we want to see if there is a correlation between Salary (Gross Pay) and Rating (recInstr) by running an inferrential analysis."
   ]
  },
  {
   "cell_type": "code",
   "execution_count": 56,
   "metadata": {},
   "outputs": [
    {
     "data": {
      "text/plain": [
       "<seaborn.axisgrid.FacetGrid at 0x7ff31ac2dbb0>"
      ]
     },
     "execution_count": 56,
     "metadata": {},
     "output_type": "execute_result"
    },
    {
     "data": {
      "image/png": "[encoded data removed]",
      "text/plain": [
       "<Figure size 806.4x504 with 1 Axes>"
      ]
     },
     "metadata": {},
     "output_type": "display_data"
    }
   ],
   "source": [
    "ax = sns.lmplot(\n",
    "    x = 'GrossPay',\n",
    "    y = 'recInstr', \n",
    "    data = df_comb,\n",
    "    fit_reg=True,\n",
    "    scatter_kws={'color':'green'},\n",
    "    line_kws={'color':'blue'},\n",
    "    aspect=1.6,\n",
    "    height=7\n",
    ")\n",
    "\n",
    "ax.set(xlabel=\"Gross Pay\")\n",
    "ax.set(ylabel=\"Professor Rating\")\n",
    "#plot relational plot to see if theres anything"
   ]
  },
  {
   "cell_type": "markdown",
   "metadata": {},
   "source": [
    "The line has a small slope, and the points do not seem to follow along the line with equal distribution, so it is unlikely there is a correlation. We will execute a linear regression with this data to confirm this."
   ]
  },
  {
   "cell_type": "code",
   "execution_count": 57,
   "metadata": {},
   "outputs": [
    {
     "name": "stdout",
     "output_type": "stream",
     "text": [
      "                            OLS Regression Results                            \n",
      "==============================================================================\n",
      "Dep. Variable:                 rating   R-squared:                       0.001\n",
      "Model:                            OLS   Adj. R-squared:                 -0.001\n",
      "Method:                 Least Squares   F-statistic:                    0.4947\n",
      "Date:                Thu, 09 Dec 2021   Prob (F-statistic):              0.482\n",
      "Time:                        22:10:45   Log-Likelihood:                -2827.8\n",
      "No. Observations:                 717   AIC:                             5660.\n",
      "Df Residuals:                     715   BIC:                             5669.\n",
      "Df Model:                           1                                         \n",
      "Covariance Type:            nonrobust                                         \n",
      "==============================================================================\n",
      "                 coef    std err          t      P>|t|      [0.025      0.975]\n",
      "------------------------------------------------------------------------------\n",
      "Intercept     92.1228      0.916    100.536      0.000      90.324      93.922\n",
      "GrossPay   -4.294e-06    6.1e-06     -0.703      0.482   -1.63e-05    7.69e-06\n",
      "==============================================================================\n",
      "Omnibus:                      453.585   Durbin-Watson:                   1.982\n",
      "Prob(Omnibus):                  0.000   Jarque-Bera (JB):             4295.447\n",
      "Skew:                          -2.791   Prob(JB):                         0.00\n",
      "Kurtosis:                      13.613   Cond. No.                     2.94e+05\n",
      "==============================================================================\n",
      "\n",
      "Notes:\n",
      "[1] Standard Errors assume that the covariance matrix of the errors is correctly specified.\n",
      "[2] The condition number is large, 2.94e+05. This might indicate that there are\n",
      "strong multicollinearity or other numerical problems.\n"
     ]
    }
   ],
   "source": [
    "df = df_comb[['recInstr', 'GrossPay']]\n",
    "df.columns = ['rating','GrossPay']\n",
    "outcome, predictors = patsy.dmatrices('rating ~ GrossPay', df)\n",
    "\n",
    "mod_log = sm.OLS(outcome, predictors)\n",
    "\n",
    "fit_res = mod_log.fit()\n",
    "\n",
    "print(fit_res.summary())"
   ]
  },
  {
   "cell_type": "markdown",
   "metadata": {},
   "source": [
    "Looking at the summary above, we see that the p value is large (>0.05). Therefore, there is no statistically significant relationship between the predictor variable, GrossPay, and the response variable, recInstr."
   ]
  },
  {
   "cell_type": "markdown",
   "metadata": {},
   "source": [
    "Now we want to see if there is a correlation between Salary (Regular Pay) and Rating (recInstr) by running an inferrential analysis."
   ]
  },
  {
   "cell_type": "code",
   "execution_count": 58,
   "metadata": {},
   "outputs": [
    {
     "data": {
      "text/plain": [
       "<seaborn.axisgrid.FacetGrid at 0x7ff31b0daa60>"
      ]
     },
     "execution_count": 58,
     "metadata": {},
     "output_type": "execute_result"
    },
    {
     "data": {
      "image/png": "[encoded data removed]",
      "text/plain": [
       "<Figure size 806.4x504 with 1 Axes>"
      ]
     },
     "metadata": {},
     "output_type": "display_data"
    }
   ],
   "source": [
    "ax = sns.lmplot(\n",
    "    x = 'RegularPay',\n",
    "    y = 'recInstr', \n",
    "    data = df_comb,\n",
    "    fit_reg=True,\n",
    "    scatter_kws={'color':'purple'},\n",
    "    line_kws={'color':'blue'},\n",
    "    aspect=1.6,\n",
    "    height=7\n",
    ")\n",
    "\n",
    "ax.set(xlabel=\"Regular Pay\")\n",
    "ax.set(ylabel=\"Professor Rating\")\n",
    "#plot relational plot to see if theres anything"
   ]
  },
  {
   "cell_type": "markdown",
   "metadata": {},
   "source": [
    "We want to take a look at the linear regression summary."
   ]
  },
  {
   "cell_type": "code",
   "execution_count": 59,
   "metadata": {},
   "outputs": [
    {
     "name": "stdout",
     "output_type": "stream",
     "text": [
      "                            OLS Regression Results                            \n",
      "==============================================================================\n",
      "Dep. Variable:                 rating   R-squared:                       0.002\n",
      "Model:                            OLS   Adj. R-squared:                  0.000\n",
      "Method:                 Least Squares   F-statistic:                     1.112\n",
      "Date:                Thu, 09 Dec 2021   Prob (F-statistic):              0.292\n",
      "Time:                        22:10:46   Log-Likelihood:                -2827.5\n",
      "No. Observations:                 717   AIC:                             5659.\n",
      "Df Residuals:                     715   BIC:                             5668.\n",
      "Df Model:                           1                                         \n",
      "Covariance Type:            nonrobust                                         \n",
      "==============================================================================\n",
      "                 coef    std err          t      P>|t|      [0.025      0.975]\n",
      "------------------------------------------------------------------------------\n",
      "Intercept     92.4356      0.946     97.747      0.000      90.579      94.292\n",
      "RegularPay -7.941e-06   7.53e-06     -1.055      0.292   -2.27e-05    6.84e-06\n",
      "==============================================================================\n",
      "Omnibus:                      452.902   Durbin-Watson:                   1.982\n",
      "Prob(Omnibus):                  0.000   Jarque-Bera (JB):             4276.356\n",
      "Skew:                          -2.786   Prob(JB):                         0.00\n",
      "Kurtosis:                      13.587   Cond. No.                     2.54e+05\n",
      "==============================================================================\n",
      "\n",
      "Notes:\n",
      "[1] Standard Errors assume that the covariance matrix of the errors is correctly specified.\n",
      "[2] The condition number is large, 2.54e+05. This might indicate that there are\n",
      "strong multicollinearity or other numerical problems.\n"
     ]
    }
   ],
   "source": [
    "df = df_comb[['recInstr', 'RegularPay']]\n",
    "df.columns = ['rating','RegularPay']\n",
    "outcome, predictors = patsy.dmatrices('rating ~ RegularPay', df)\n",
    "\n",
    "mod_log = sm.OLS(outcome, predictors)\n",
    "\n",
    "fit_res = mod_log.fit()\n",
    "\n",
    "print(fit_res.summary())"
   ]
  },
  {
   "cell_type": "markdown",
   "metadata": {},
   "source": [
    "Looking at the summary above, we see that the p value is large (>0.05). Therefore, there is no statistically significant relationship between the predictor variable, RegularPay, and the response variable, recInstr."
   ]
  },
  {
   "cell_type": "markdown",
   "metadata": {},
   "source": [
    "We are also interested in how tenure status may effect ratings. Our null hypothesis is there is no statistically significant relationship between the predictor variable, recInstr, and the response variable, tenured."
   ]
  },
  {
   "cell_type": "markdown",
   "metadata": {},
   "source": [
    "Let's take a look at distribution of salary and rating for tenured and non tenured professors."
   ]
  },
  {
   "cell_type": "code",
   "execution_count": 60,
   "metadata": {},
   "outputs": [],
   "source": [
    "sns.set(rc = {'figure.figsize':(10,4.5)})"
   ]
  },
  {
   "cell_type": "code",
   "execution_count": 61,
   "metadata": {
    "scrolled": true
   },
   "outputs": [
    {
     "data": {
      "text/plain": [
       "[Text(0, 0.5, 'Professor Rating')]"
      ]
     },
     "execution_count": 61,
     "metadata": {},
     "output_type": "execute_result"
    },
    {
     "data": {
      "image/png": "[encoded data removed]",
      "text/plain": [
       "<Figure size 720x324 with 1 Axes>"
      ]
     },
     "metadata": {},
     "output_type": "display_data"
    }
   ],
   "source": [
    "ax = sns.scatterplot(data=df_comb, x=\"RegularPay\", y=\"recInstr\", hue=\"tenured\", marker= \"o\", style=\"tenured\")\n",
    "\n",
    "ax.set(xlabel=\"Regular Pay\")\n",
    "ax.set(ylabel=\"Professor Rating\")"
   ]
  },
  {
   "cell_type": "markdown",
   "metadata": {},
   "source": [
    "This scatter plot shows the distribution of data in relations to Regular Pay, recIntr, and tenured status."
   ]
  },
  {
   "cell_type": "code",
   "execution_count": 66,
   "metadata": {},
   "outputs": [
    {
     "data": {
      "text/plain": [
       "[Text(0, 0.5, 'Professor Rating')]"
      ]
     },
     "execution_count": 66,
     "metadata": {},
     "output_type": "execute_result"
    },
    {
     "data": {
      "image/png": "[encoded data removed]",
      "text/plain": [
       "<Figure size 720x324 with 1 Axes>"
      ]
     },
     "metadata": {},
     "output_type": "display_data"
    }
   ],
   "source": [
    "ax = sns.scatterplot(data=df_comb, x=\"GrossPay\", y=\"recInstr\", hue=\"tenured\", style=\"tenured\")\n",
    "ax.set(xlabel=\"Gross Pay\")\n",
    "ax.set(ylabel=\"Professor Rating\")"
   ]
  },
  {
   "cell_type": "markdown",
   "metadata": {},
   "source": [
    "This scatter plot shows the distribution of data in relations to Gross Pay, recIntr, and tenured status."
   ]
  },
  {
   "cell_type": "markdown",
   "metadata": {},
   "source": [
    "Let's look do some regression model for tenure status and rating."
   ]
  },
  {
   "cell_type": "code",
   "execution_count": null,
   "metadata": {
    "scrolled": true
   },
   "outputs": [],
   "source": [
    "ax = sns.lmplot(\n",
    "    x = 'recInstr',\n",
    "    y = 'tenured', \n",
    "    data = df_comb,\n",
    "    fit_reg=True,\n",
    "    scatter_kws={'color':'red'},\n",
    "    line_kws={'color':'blue'},\n",
    "    aspect=2,\n",
    "    height=4.5\n",
    ")\n",
    "\n",
    "ax.set(xlabel=\"Professor Rating\")\n",
    "ax.set(ylabel=\"Tenured\")"
   ]
  },
  {
   "cell_type": "markdown",
   "metadata": {},
   "source": [
    "looking the regression plot that we plotted, we cannot infer any relationship between the variables. The reason of it is because the variable \"tenured\" is boolean, while the \"recInstr\" is continuous, and the regression plot should be used for continuous variables. Thus, this plot is inefficient, and we will need to use another method to infer relationship between the variables."
   ]
  },
  {
   "cell_type": "markdown",
   "metadata": {},
   "source": [
    "We used a point biserial correlation between the two variables \"recInstr\" and \"tenured\". The point-biserial correlation coeffiecient can be used when one variable is dichotomized, while the other is continuous. "
   ]
  },
  {
   "cell_type": "code",
   "execution_count": null,
   "metadata": {},
   "outputs": [],
   "source": [
    "import scipy.stats as stats\n",
    "df_comb = df_comb.dropna()\n",
    "x = df_comb[\"tenured\"]\n",
    "y = df_comb[\"recInstr\"]\n",
    "#calculate point-biserial correlation\n",
    "stats.pointbiserialr(x, y)"
   ]
  },
  {
   "cell_type": "code",
   "execution_count": null,
   "metadata": {},
   "outputs": [],
   "source": [
    "sns.set(rc = {'figure.figsize':(6, 4)})"
   ]
  },
  {
   "cell_type": "code",
   "execution_count": null,
   "metadata": {},
   "outputs": [],
   "source": [
    "ax = sns.pointplot(x=\"tenured\", y=\"recInstr\", data=df_comb)\n",
    "ax.set(xlabel=\"Tenured\")\n",
    "ax.set(ylabel=\"Professor Rating\")"
   ]
  },
  {
   "cell_type": "markdown",
   "metadata": {},
   "source": [
    "The point biserial result shows a correlation of -0.09068705818761415, which means that there is a negative correlation between tenured and instructor recommendation. Looking at the pvalue, which is 0.01513701203386359, we can reject the null hypothesis as the values is smaller than the alpha values of 0.05, thus there is statistically significant relationship between the predictor variable, recInstr, and the response variable, tenured. "
   ]
  },
  {
   "cell_type": "markdown",
   "metadata": {},
   "source": [
    "# Using Machine learning to Predict Tenured or Not Based On Salary"
   ]
  },
  {
   "cell_type": "markdown",
   "metadata": {},
   "source": [
    "In this section, we want to use machine learning to see if we can predict whether a person is tenured or not based on the gross pay, this is not entirely related to our hypothesis, but we so want to see if there is a method to find out more about the tenure status of a person. The machine learning model we will be using is from sklearn and is referenced from an article online linked below. We used the variables regular pay and tenured to create the model."
   ]
  },
  {
   "cell_type": "code",
   "execution_count": null,
   "metadata": {},
   "outputs": [],
   "source": [
    "import numpy as np\n",
    "import matplotlib.pyplot as plt\n",
    "import pandas as pd"
   ]
  },
  {
   "cell_type": "markdown",
   "metadata": {},
   "source": [
    "https://towardsdatascience.com/machine-learning-basics-naive-bayes-classification-964af6f2a965"
   ]
  },
  {
   "cell_type": "markdown",
   "metadata": {},
   "source": [
    "First decide what needs to be the dependent and the independent variable, Gross pay is used as independent, and the tenured status is what we need to predict"
   ]
  },
  {
   "cell_type": "code",
   "execution_count": null,
   "metadata": {},
   "outputs": [],
   "source": [
    "X = df_comb['RegularPay'].values\n",
    "y = df_comb['tenured'].values"
   ]
  },
  {
   "cell_type": "markdown",
   "metadata": {},
   "source": [
    "Split data into training and testing data, 20 percent test 80 percent train"
   ]
  },
  {
   "cell_type": "code",
   "execution_count": null,
   "metadata": {},
   "outputs": [],
   "source": [
    "from sklearn.model_selection import train_test_split\n",
    "X_train, X_test, y_train, y_test = train_test_split(X, y, test_size = 0.2)"
   ]
  },
  {
   "cell_type": "markdown",
   "metadata": {},
   "source": [
    "Use sklearn, first need to transform the shape of the data"
   ]
  },
  {
   "cell_type": "code",
   "execution_count": null,
   "metadata": {},
   "outputs": [],
   "source": [
    "from sklearn.preprocessing import StandardScaler\n",
    "sc = StandardScaler()\n",
    "X_train = sc.fit_transform(X_train.reshape(-1, 1) )\n",
    "X_test = sc.transform(X_test.reshape(-1, 1))"
   ]
  },
  {
   "cell_type": "markdown",
   "metadata": {},
   "source": [
    "Use Gaussian Naive Bayes to classify the data"
   ]
  },
  {
   "cell_type": "code",
   "execution_count": null,
   "metadata": {},
   "outputs": [],
   "source": [
    "from sklearn.naive_bayes import GaussianNB\n",
    "classifier = GaussianNB()\n",
    "classifier.fit(X_train, y_train)"
   ]
  },
  {
   "cell_type": "markdown",
   "metadata": {},
   "source": [
    "Use the test data to test the model"
   ]
  },
  {
   "cell_type": "code",
   "execution_count": null,
   "metadata": {},
   "outputs": [],
   "source": [
    "y_pred = classifier.predict(X_test) \n",
    "y_pred"
   ]
  },
  {
   "cell_type": "code",
   "execution_count": null,
   "metadata": {},
   "outputs": [],
   "source": [
    "from sklearn.metrics import confusion_matrix\n",
    "cm = confusion_matrix(y_test, y_pred)\n",
    "from sklearn.metrics import accuracy_score \n",
    "print (\"Accuracy : \", accuracy_score(y_test, y_pred))\n",
    "cm"
   ]
  },
  {
   "cell_type": "markdown",
   "metadata": {},
   "source": [
    "The model yield an accuracy of 80 percent, average performace"
   ]
  },
  {
   "cell_type": "code",
   "execution_count": null,
   "metadata": {},
   "outputs": [],
   "source": [
    "df = pd.DataFrame({'Real Values':y_test, 'Predicted Values':y_pred})\n",
    "df"
   ]
  },
  {
   "cell_type": "markdown",
   "metadata": {},
   "source": [
    "To check if the model works, use values to see if the predicted classifier works"
   ]
  },
  {
   "cell_type": "code",
   "execution_count": null,
   "metadata": {},
   "outputs": [],
   "source": [
    "Xnew = [[0]]\n",
    "ynew = classifier.predict(Xnew)\n",
    "ynew"
   ]
  },
  {
   "cell_type": "code",
   "execution_count": null,
   "metadata": {},
   "outputs": [],
   "source": [
    "Xnew = [[500000]]\n",
    "ynew = classifier.predict(Xnew)\n",
    "ynew"
   ]
  },
  {
   "cell_type": "markdown",
   "metadata": {},
   "source": [
    "the classifier works as it predicted that a person who makes 0 dollars is untenured while someone who makes 500000 is tenured. "
   ]
  },
  {
   "cell_type": "markdown",
   "metadata": {},
   "source": [
    "# Results"
   ]
  },
  {
   "cell_type": "markdown",
   "metadata": {},
   "source": [
    "We began our analysis of our data by running an inferential analysis on the variables Gross Pay and Rating. The goal is to see whether there is any relationship or correlation between how much a professor earns and their CAPEs rating. Upon running the analysis, we found that the linear line has a very small slope amongst the scatter plot data points. Our OLS regression results confirm that there is in fact no significant relationship between ratings and gross pay since the p value is large (>0.05). The conclusion is that there is no statistically significant relationship between the predictor variable, GrossPay, and the response variable, recInstr. The same was done with the variable Regular Pay and the result again shows no significant relationship. \n",
    "\n",
    "We moved onto analyzing the relationship between tenure status and ratings. Our initial plan was to use the same inferential analysis technique on tenure and ratings, however, our regress plot shows that no relationship can be inferred since tenure status is a boolean variable, not continuous. To analyze the correlation, we instead took to utilizing a point biserial correlation approach. This method proved fruitful, as the variables showed a significant correlation. In our analysis, we find that there is a negative correlation of -0.0907 between tenure status and instructor recommendation. With a p value of 0.015, we can reject the null hypothesis and accept the alternative hypothesis that there is a significant relationship between tenure and instructor recommendation. The interpretation of this hypothesis is as follows: Tenured professors are more likely to receive a lower recommendation score from students compared to non tenured professors. \n",
    "\n",
    "Heading into predictive analysis, we decided to use machine learning to see if we can predict whether a person is tenured or not based on the variable Gross Pay. This was strictly for the purpose of inquiry and is not intended to contribute or disprove our hypothesis. We were able to successfully build a machine learning model that can classify a person based on salary input. \n",
    "\n",
    "To summarize, our results show that there is no relationship between professor pay and professor ratings, however, there is a significant negative correlation between tenured professors and their student ratings. \n"
   ]
  },
  {
   "cell_type": "markdown",
   "metadata": {},
   "source": [
    "# Ethics & Privacy"
   ]
  },
  {
   "cell_type": "markdown",
   "metadata": {},
   "source": [
    "The initial goal of our project was to identify any correlation between salary and student ratings, as well as tenure status and ratings. In our research question, we made sure to not utilize words such as teaching quality which would not be operationally defined in our case. Instead, we selected student ratings as the dependent variable and operationally defined term. This gives our research higher validity.\n",
    "\n",
    "We have permission to use the data as the data is being collected from sources that are open to the ucsd student population as well as the public for use. For our professor pay datasets, we utilized the University of California annual employee pay website, originally created for the purpose of transparency for taxpayers.The data was scraped and collected through our self written program. The UC San Diego CAPEs ratings are accessible to students of this school. Given that we are authorized to view the CAPEs ratings, it can be inferred that utilization of the data for the sake of exploratory data analysis is permitted. The capes rating is used only internally for ucsd students, and for that reason, we made sure that data was unidentifiable to everyone.\n",
    "\n",
    "We respect the privacy of professors, and we made an effort to anonymize our data whenever possible. Because we relied on professor names to find their CAPEs rating, it was not possible to make our data anonymous until after data collection. However, we anonymized our data set by removing names from our data once our tables are joined. After removal of names in our data set, no identifiable information remains throughout the data analysis, and post analysis. \n",
    "No biases can be identified throughout our study. Student CAPEs ratings are ultimately subjective ratings that take into account internal biases students might have.\n",
    "\n",
    "Though the data analysis itself is not ethically concerning, this might not be the case if people use our exploratory data to make inferences and predictions. We don't have enough confidence and support to claim that our data is conclusive on the subject of tenureship and rating.It should also not be confused that rating is not directly reflective of teaching quality, and it would be unethical to assume otherwise."
   ]
  },
  {
   "cell_type": "markdown",
   "metadata": {},
   "source": [
    "# Conclusion & Discussion"
   ]
  },
  {
   "cell_type": "markdown",
   "metadata": {},
   "source": [
    "Contrary to our hypothesis, UCSD professors with high salaries are not likely to receive lower approval ratings compared to those with a lower salary. When only taking tenureship into account, our hypothesis holds true: tenure status and CAPEs ratings are correlated. This means students should be wary when enrolling into classes with tenured professors. This research can have a minor impact in the way UCSD students approach the enrollment process. Moving forward, additional analysis of future academic years will be another step in keeping professors honest and will allow students to have the best education possible.\n",
    "\n",
    "Limitations: For this research, we only did ratings from 1 year. More years would have benefitted the study to get a more robust conclusion with our findings. Also, the limited amount of data we had per professor limited the amount of in depth analysis we could make. As in, we could not analyze the influence in which gender, ageism, racism or personal prejudice can influence how a student would rate a professor. Another limitation is that our current model will not be able to generalize outside of UCSD. Other school systems (non research based colleges or even other UCs) have a strong likelihood of having differing results. Finally, we limited our study to a single variable (ratings) to relate professors' salaries and their ratings when there are multiple variables that could affect these results. "
   ]
  },
  {
   "cell_type": "markdown",
   "metadata": {},
   "source": []
  },
  {
   "cell_type": "markdown",
   "metadata": {},
   "source": [
    "# Team Contributions"
   ]
  },
  {
   "cell_type": "markdown",
   "metadata": {},
   "source": [
    "*Specify who in your group worked on which parts of the project.*"
   ]
  },
  {
   "cell_type": "markdown",
   "metadata": {},
   "source": [
    "- Overview: Jodie\n",
    "- Research Question: Kelly, Sergio\n",
    "- Background: Kelly\n",
    "- Hypothesis: Josie, Mary, Jodie, Sergio, Kelly\n",
    "- Dataset1 Search: Josie\n",
    "- Dataset2 Search: Mary\n",
    "- Data Cleaning: Josie, Mary, Jodie, Sergio\n",
    "- EDA: Josie, Mary, Jodie, Sergio, Kelly\n",
    "- Results: Jodie\n",
    "- Ethics and Privacy: Jodie\n",
    "- Conclusion: Sergio"
   ]
  },
  {
   "cell_type": "code",
   "execution_count": null,
   "metadata": {},
   "outputs": [],
   "source": []
  }
 ],
 "metadata": {
  "colab": {
   "name": "DataCheckpointGroup008-Fa21.ipynb",
   "provenance": []
  },
  "kernelspec": {
   "display_name": "Python 3",
   "language": "python",
   "name": "python3"
  },
  "language_info": {
   "codemirror_mode": {
    "name": "ipython",
    "version": 3
   },
   "file_extension": ".py",
   "mimetype": "text/x-python",
   "name": "python",
   "nbconvert_exporter": "python",
   "pygments_lexer": "ipython3",
   "version": "3.8.5"
  }
 },
 "nbformat": 4,
 "nbformat_minor": 4
}
